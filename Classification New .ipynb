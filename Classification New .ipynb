{
 "cells": [
  {
   "cell_type": "markdown",
   "metadata": {},
   "source": [
    "# Import libaries"
   ]
  },
  {
   "cell_type": "code",
   "execution_count": 1,
   "metadata": {},
   "outputs": [],
   "source": [
    "import openml\n",
    "from tqdm import tqdm\n",
    "import matplotlib.pyplot as plt\n",
    "import numpy as np\n",
    "import pandas as pd\n",
    "from progressbar import ProgressBar\n",
    "from sklearn.model_selection import GridSearchCV,StratifiedKFold\n",
    "from sklearn.model_selection import cross_val_score\n",
    "from sklearn.metrics import f1_score, make_scorer\n",
    "import time\n",
    "import json"
   ]
  },
  {
   "cell_type": "markdown",
   "metadata": {},
   "source": [
    "# Import all datatsets"
   ]
  },
  {
   "cell_type": "code",
   "execution_count": 2,
   "metadata": {
    "scrolled": true
   },
   "outputs": [
    {
     "data": {
      "text/plain": "    did             name  version uploader  status format  MajorityClassSize  \\\n2     2           anneal        1        1  active   ARFF              684.0   \n3     3         kr-vs-kp        1        1  active   ARFF             1669.0   \n4     4            labor        1        1  active   ARFF               37.0   \n5     5       arrhythmia        1        1  active   ARFF              245.0   \n6     6           letter        1        1  active   ARFF              813.0   \n7     7        audiology        1        1  active   ARFF               57.0   \n8     8  liver-disorders        1        1  active   ARFF                NaN   \n9     9            autos        1        1  active   ARFF               67.0   \n10   10            lymph        1        1  active   ARFF               81.0   \n11   11    balance-scale        1        1  active   ARFF              288.0   \n\n    MaxNominalAttDistinctValues  MinorityClassSize  NumberOfClasses  \\\n2                           7.0                8.0              5.0   \n3                           3.0             1527.0              2.0   \n4                           3.0               20.0              2.0   \n5                          13.0                2.0             13.0   \n6                          26.0              734.0             26.0   \n7                          24.0                1.0             24.0   \n8                           NaN                NaN              0.0   \n9                          22.0                3.0              6.0   \n10                          8.0                2.0              4.0   \n11                          3.0               49.0              3.0   \n\n    NumberOfFeatures  NumberOfInstances  NumberOfInstancesWithMissingValues  \\\n2               39.0              898.0                               898.0   \n3               37.0             3196.0                                 0.0   \n4               17.0               57.0                                56.0   \n5              280.0              452.0                               384.0   \n6               17.0            20000.0                                 0.0   \n7               70.0              226.0                               222.0   \n8                6.0              345.0                                 0.0   \n9               26.0              205.0                                46.0   \n10              19.0              148.0                                 0.0   \n11               5.0              625.0                                 0.0   \n\n    NumberOfMissingValues  NumberOfNumericFeatures  NumberOfSymbolicFeatures  \n2                 22175.0                      6.0                      33.0  \n3                     0.0                      0.0                      37.0  \n4                   326.0                      8.0                       9.0  \n5                   408.0                    206.0                      74.0  \n6                     0.0                     16.0                       1.0  \n7                   317.0                      0.0                      70.0  \n8                     0.0                      6.0                       0.0  \n9                    59.0                     15.0                      11.0  \n10                    0.0                      3.0                      16.0  \n11                    0.0                      4.0                       1.0  ",
      "text/html": "<div>\n<style scoped>\n    .dataframe tbody tr th:only-of-type {\n        vertical-align: middle;\n    }\n\n    .dataframe tbody tr th {\n        vertical-align: top;\n    }\n\n    .dataframe thead th {\n        text-align: right;\n    }\n</style>\n<table border=\"1\" class=\"dataframe\">\n  <thead>\n    <tr style=\"text-align: right;\">\n      <th></th>\n      <th>did</th>\n      <th>name</th>\n      <th>version</th>\n      <th>uploader</th>\n      <th>status</th>\n      <th>format</th>\n      <th>MajorityClassSize</th>\n      <th>MaxNominalAttDistinctValues</th>\n      <th>MinorityClassSize</th>\n      <th>NumberOfClasses</th>\n      <th>NumberOfFeatures</th>\n      <th>NumberOfInstances</th>\n      <th>NumberOfInstancesWithMissingValues</th>\n      <th>NumberOfMissingValues</th>\n      <th>NumberOfNumericFeatures</th>\n      <th>NumberOfSymbolicFeatures</th>\n    </tr>\n  </thead>\n  <tbody>\n    <tr>\n      <th>2</th>\n      <td>2</td>\n      <td>anneal</td>\n      <td>1</td>\n      <td>1</td>\n      <td>active</td>\n      <td>ARFF</td>\n      <td>684.0</td>\n      <td>7.0</td>\n      <td>8.0</td>\n      <td>5.0</td>\n      <td>39.0</td>\n      <td>898.0</td>\n      <td>898.0</td>\n      <td>22175.0</td>\n      <td>6.0</td>\n      <td>33.0</td>\n    </tr>\n    <tr>\n      <th>3</th>\n      <td>3</td>\n      <td>kr-vs-kp</td>\n      <td>1</td>\n      <td>1</td>\n      <td>active</td>\n      <td>ARFF</td>\n      <td>1669.0</td>\n      <td>3.0</td>\n      <td>1527.0</td>\n      <td>2.0</td>\n      <td>37.0</td>\n      <td>3196.0</td>\n      <td>0.0</td>\n      <td>0.0</td>\n      <td>0.0</td>\n      <td>37.0</td>\n    </tr>\n    <tr>\n      <th>4</th>\n      <td>4</td>\n      <td>labor</td>\n      <td>1</td>\n      <td>1</td>\n      <td>active</td>\n      <td>ARFF</td>\n      <td>37.0</td>\n      <td>3.0</td>\n      <td>20.0</td>\n      <td>2.0</td>\n      <td>17.0</td>\n      <td>57.0</td>\n      <td>56.0</td>\n      <td>326.0</td>\n      <td>8.0</td>\n      <td>9.0</td>\n    </tr>\n    <tr>\n      <th>5</th>\n      <td>5</td>\n      <td>arrhythmia</td>\n      <td>1</td>\n      <td>1</td>\n      <td>active</td>\n      <td>ARFF</td>\n      <td>245.0</td>\n      <td>13.0</td>\n      <td>2.0</td>\n      <td>13.0</td>\n      <td>280.0</td>\n      <td>452.0</td>\n      <td>384.0</td>\n      <td>408.0</td>\n      <td>206.0</td>\n      <td>74.0</td>\n    </tr>\n    <tr>\n      <th>6</th>\n      <td>6</td>\n      <td>letter</td>\n      <td>1</td>\n      <td>1</td>\n      <td>active</td>\n      <td>ARFF</td>\n      <td>813.0</td>\n      <td>26.0</td>\n      <td>734.0</td>\n      <td>26.0</td>\n      <td>17.0</td>\n      <td>20000.0</td>\n      <td>0.0</td>\n      <td>0.0</td>\n      <td>16.0</td>\n      <td>1.0</td>\n    </tr>\n    <tr>\n      <th>7</th>\n      <td>7</td>\n      <td>audiology</td>\n      <td>1</td>\n      <td>1</td>\n      <td>active</td>\n      <td>ARFF</td>\n      <td>57.0</td>\n      <td>24.0</td>\n      <td>1.0</td>\n      <td>24.0</td>\n      <td>70.0</td>\n      <td>226.0</td>\n      <td>222.0</td>\n      <td>317.0</td>\n      <td>0.0</td>\n      <td>70.0</td>\n    </tr>\n    <tr>\n      <th>8</th>\n      <td>8</td>\n      <td>liver-disorders</td>\n      <td>1</td>\n      <td>1</td>\n      <td>active</td>\n      <td>ARFF</td>\n      <td>NaN</td>\n      <td>NaN</td>\n      <td>NaN</td>\n      <td>0.0</td>\n      <td>6.0</td>\n      <td>345.0</td>\n      <td>0.0</td>\n      <td>0.0</td>\n      <td>6.0</td>\n      <td>0.0</td>\n    </tr>\n    <tr>\n      <th>9</th>\n      <td>9</td>\n      <td>autos</td>\n      <td>1</td>\n      <td>1</td>\n      <td>active</td>\n      <td>ARFF</td>\n      <td>67.0</td>\n      <td>22.0</td>\n      <td>3.0</td>\n      <td>6.0</td>\n      <td>26.0</td>\n      <td>205.0</td>\n      <td>46.0</td>\n      <td>59.0</td>\n      <td>15.0</td>\n      <td>11.0</td>\n    </tr>\n    <tr>\n      <th>10</th>\n      <td>10</td>\n      <td>lymph</td>\n      <td>1</td>\n      <td>1</td>\n      <td>active</td>\n      <td>ARFF</td>\n      <td>81.0</td>\n      <td>8.0</td>\n      <td>2.0</td>\n      <td>4.0</td>\n      <td>19.0</td>\n      <td>148.0</td>\n      <td>0.0</td>\n      <td>0.0</td>\n      <td>3.0</td>\n      <td>16.0</td>\n    </tr>\n    <tr>\n      <th>11</th>\n      <td>11</td>\n      <td>balance-scale</td>\n      <td>1</td>\n      <td>1</td>\n      <td>active</td>\n      <td>ARFF</td>\n      <td>288.0</td>\n      <td>3.0</td>\n      <td>49.0</td>\n      <td>3.0</td>\n      <td>5.0</td>\n      <td>625.0</td>\n      <td>0.0</td>\n      <td>0.0</td>\n      <td>4.0</td>\n      <td>1.0</td>\n    </tr>\n  </tbody>\n</table>\n</div>"
     },
     "execution_count": 2,
     "metadata": {},
     "output_type": "execute_result"
    }
   ],
   "source": [
    "datasets_df = openml.datasets.list_datasets(output_format=\"dataframe\")\n",
    "datasets_df.head(10)"
   ]
  },
  {
   "cell_type": "markdown",
   "metadata": {},
   "source": [
    "# Extract Dataset"
   ]
  },
  {
   "cell_type": "code",
   "execution_count": 3,
   "metadata": {},
   "outputs": [],
   "source": [
    "dataset = openml.datasets.get_dataset(294)"
   ]
  },
  {
   "cell_type": "markdown",
   "metadata": {},
   "source": [
    "# Print description about dataset"
   ]
  },
  {
   "cell_type": "code",
   "execution_count": 4,
   "metadata": {},
   "outputs": [
    {
     "name": "stdout",
     "output_type": "stream",
     "text": [
      "This is dataset 'satellite_image', the target feature is 'class'\n",
      "URL: https://www.openml.org/data/v1/download/50720/satellite_image.arff\n",
      "**Author**:   \n",
      "**Source**: Unknown - 1993  \n",
      "**Please cite**:   \n",
      "\n",
      "Source:\n",
      "Ashwin Srinivasan\n",
      "Department of Statistics and Data Modeling\n",
      "University of Strathclyde\n",
      "Glasgow\n",
      "Scotland\n",
      "UK\n",
      "ross '@' uk.ac.turing\n",
      "\n",
      "The original Landsat data for this database was generated from data purchased from NASA by the Australian Centre for Remote Sensing, and used for research at: \n",
      "The Centre for Remote Sensing\n",
      "University of New South Wales\n",
      "Kensington, PO Box 1\n",
      "NSW 2033\n",
      "Australia.\n",
      "\n",
      "The sample database was generated taking a small section (82 rows and 100 columns) from the original data. The binary values were converted to their present ASCII form by Ashwin Srinivasan. The classification for each pixel was performed on the basis of an actual site visit by Ms. Karen Hall, when working for Professor John A. Richards, at the Centre for Remote Sensing at the University of New South Wales, Australia. Conversion to 3x3 neighbourhoods and splitting into test and training sets was done by Alistair Sutherland.\n",
      "\n",
      "Data Set Information:\n",
      "The database consists of the multi-spectral values of pixels in 3x3 neighbourhoods in a satellite image, and the classification associated with the central pixel in each neighbourhood. The aim is to predict this classification, given the multi-spectral values. In the sample database, the class of a pixel is coded as a number. The Landsat satellite data is one of the many sources of information available for a scene. The interpretation of a scene by  integrating spatial data of diverse types and resolutions including multispectral and radar data, maps indicating topography, land use etc. is expected to assume significant importance with the onset of an era characterised by integrative approaches to remote sensing (for example, NASA's Earth Observing System commencing this decade). Existing statistical methods are ill-equipped for handling such diverse data types. Note that this is not true for Landsat MSS data considered in isolation (as in this sample database). This data satisfies the important requirements of being numerical and at a single resolution, and standard maximum-likelihood classification performs very well. Consequently, for this data, it should be interesting to compare the performance of other methods against the statistical approach. One frame of Landsat MSS imagery consists of four digital images of the same scene in different spectral bands. Two of these are in the visible region (corresponding approximately to green and red regions of the visible spectrum) and two are in the (near) infra-red. Each pixel is a 8-bit binary word, with 0 corresponding to black and 255 to white. The spatial resolution of a pixel is about 80m x 80m. Each image contains 2340 x 3380 such pixels. The database is a (tiny) sub-area of a scene, consisting of 82 x 100 pixels. Each line of data corresponds to a 3x3 square neighbourhood of pixels completely contained within the 82x100 sub-area. Each line contains the pixel values in the four spectral bands (converted to ASCII) of each of the 9 pixels in the 3x3 neighbourhood and a number indicating the classification label of the central pixel. The number is a code for the following classes:\n",
      "\n",
      "Number Class\n",
      "1 red soil\n",
      "2 cotton crop\n",
      "3 grey soil\n",
      "4 damp grey soil\n",
      "5 soil with vegetation stubble\n",
      "6 mixture class (all types present)\n",
      "7 very damp grey soil\n",
      "NB. There are no examples with class 6 in this dataset.\n",
      " \n",
      "The data is given in random order and certain lines of data have been removed so you cannot reconstruct the original image from this dataset. In each line of data the four spectral values for the top-left pixel are given first followed by the four spectral values for the top-middle pixel and then those for the top-right pixel, and so on with the pixels read out in sequence left-to-right and top-to-bottom. Thus, the four spectral values for the central pixel are given by attributes 17,18,19 and 20. If you like you can use only these four attributes, while ignoring the others. This avoids the problem which arises when a 3x3 neighbourhood straddles a boundary.\n",
      "\n",
      "Attribute Information:\n",
      "The attributes are numerical, in the range 0 to 255.\n",
      "\n",
      "UCI: http://archive.ics.uci.edu/ml/datasets/Statlog+(Landsat+Satellite)\n"
     ]
    }
   ],
   "source": [
    "# Print a summary\n",
    "print(\n",
    "    f\"This is dataset '{dataset.name}', the target feature is \"\n",
    "    f\"'{dataset.default_target_attribute}'\"\n",
    ")\n",
    "print(f\"URL: {dataset.url}\")\n",
    "print(dataset.description[:])"
   ]
  },
  {
   "cell_type": "markdown",
   "metadata": {},
   "source": [
    "# Get depent and indepent variables"
   ]
  },
  {
   "cell_type": "code",
   "execution_count": 5,
   "metadata": {},
   "outputs": [],
   "source": [
    "x, y, categorical_indicator, attribute_names = dataset.get_data(\n",
    "    dataset_format=\"dataframe\", target=dataset.default_target_attribute\n",
    ")"
   ]
  },
  {
   "cell_type": "markdown",
   "metadata": {},
   "source": [
    "# Data types"
   ]
  },
  {
   "cell_type": "code",
   "execution_count": 6,
   "metadata": {},
   "outputs": [
    {
     "data": {
      "text/plain": "attr1     uint8\nattr2     uint8\nattr3     uint8\nattr4     uint8\nattr5     uint8\nattr6     uint8\nattr7     uint8\nattr8     uint8\nattr9     uint8\nattr10    uint8\nattr11    uint8\nattr12    uint8\nattr13    uint8\nattr14    uint8\nattr15    uint8\nattr16    uint8\nattr17    uint8\nattr18    uint8\nattr19    uint8\nattr20    uint8\nattr21    uint8\nattr22    uint8\nattr23    uint8\nattr24    uint8\nattr25    uint8\nattr26    uint8\nattr27    uint8\nattr28    uint8\nattr29    uint8\nattr30    uint8\nattr31    uint8\nattr32    uint8\nattr33    uint8\nattr34    uint8\nattr35    uint8\nattr36    uint8\ndtype: object"
     },
     "execution_count": 6,
     "metadata": {},
     "output_type": "execute_result"
    }
   ],
   "source": [
    "x.dtypes"
   ]
  },
  {
   "cell_type": "code",
   "execution_count": 7,
   "metadata": {},
   "outputs": [],
   "source": [
    "# cat_columns = x.select_dtypes(['category']).columns\n",
    "# x[cat_columns] = x[cat_columns].apply(lambda x: pd.factorize(x)[0])"
   ]
  },
  {
   "cell_type": "code",
   "execution_count": 8,
   "metadata": {},
   "outputs": [
    {
     "data": {
      "text/plain": "attr1     uint8\nattr2     uint8\nattr3     uint8\nattr4     uint8\nattr5     uint8\nattr6     uint8\nattr7     uint8\nattr8     uint8\nattr9     uint8\nattr10    uint8\nattr11    uint8\nattr12    uint8\nattr13    uint8\nattr14    uint8\nattr15    uint8\nattr16    uint8\nattr17    uint8\nattr18    uint8\nattr19    uint8\nattr20    uint8\nattr21    uint8\nattr22    uint8\nattr23    uint8\nattr24    uint8\nattr25    uint8\nattr26    uint8\nattr27    uint8\nattr28    uint8\nattr29    uint8\nattr30    uint8\nattr31    uint8\nattr32    uint8\nattr33    uint8\nattr34    uint8\nattr35    uint8\nattr36    uint8\ndtype: object"
     },
     "execution_count": 8,
     "metadata": {},
     "output_type": "execute_result"
    }
   ],
   "source": [
    "x.dtypes"
   ]
  },
  {
   "cell_type": "markdown",
   "metadata": {},
   "source": [
    "# Change response variable to int"
   ]
  },
  {
   "cell_type": "code",
   "execution_count": 9,
   "metadata": {},
   "outputs": [
    {
     "data": {
      "text/plain": "0       3\n1       3\n2       3\n3       3\n4       3\n       ..\n6430    1\n6431    1\n6432    5\n6433    5\n6434    5\nName: class, Length: 6435, dtype: uint8"
     },
     "execution_count": 9,
     "metadata": {},
     "output_type": "execute_result"
    }
   ],
   "source": [
    "y"
   ]
  },
  {
   "cell_type": "code",
   "execution_count": 10,
   "metadata": {},
   "outputs": [],
   "source": [
    "y=y.map({'1' :0,'2':1})"
   ]
  },
  {
   "cell_type": "code",
   "execution_count": 11,
   "metadata": {},
   "outputs": [
    {
     "ename": "ValueError",
     "evalue": "Cannot convert non-finite values (NA or inf) to integer",
     "output_type": "error",
     "traceback": [
      "\u001B[1;31m---------------------------------------------------------------------------\u001B[0m",
      "\u001B[1;31mValueError\u001B[0m                                Traceback (most recent call last)",
      "\u001B[1;32m<ipython-input-11-c0bd2b5c5158>\u001B[0m in \u001B[0;36m<module>\u001B[1;34m\u001B[0m\n\u001B[1;32m----> 1\u001B[1;33m \u001B[0my\u001B[0m\u001B[1;33m.\u001B[0m\u001B[0mastype\u001B[0m\u001B[1;33m(\u001B[0m\u001B[0mint\u001B[0m\u001B[1;33m)\u001B[0m\u001B[1;33m\u001B[0m\u001B[1;33m\u001B[0m\u001B[0m\n\u001B[0m\u001B[0;32m      2\u001B[0m \u001B[1;33m\u001B[0m\u001B[0m\n",
      "\u001B[1;32md:\\uc file\\intern ship\\projects\\quarterly_median_rents-analysis-\\venv\\lib\\site-packages\\pandas\\core\\generic.py\u001B[0m in \u001B[0;36mastype\u001B[1;34m(self, dtype, copy, errors)\u001B[0m\n\u001B[0;32m   5546\u001B[0m         \u001B[1;32melse\u001B[0m\u001B[1;33m:\u001B[0m\u001B[1;33m\u001B[0m\u001B[1;33m\u001B[0m\u001B[0m\n\u001B[0;32m   5547\u001B[0m             \u001B[1;31m# else, only a single dtype is given\u001B[0m\u001B[1;33m\u001B[0m\u001B[1;33m\u001B[0m\u001B[1;33m\u001B[0m\u001B[0m\n\u001B[1;32m-> 5548\u001B[1;33m             \u001B[0mnew_data\u001B[0m \u001B[1;33m=\u001B[0m \u001B[0mself\u001B[0m\u001B[1;33m.\u001B[0m\u001B[0m_mgr\u001B[0m\u001B[1;33m.\u001B[0m\u001B[0mastype\u001B[0m\u001B[1;33m(\u001B[0m\u001B[0mdtype\u001B[0m\u001B[1;33m=\u001B[0m\u001B[0mdtype\u001B[0m\u001B[1;33m,\u001B[0m \u001B[0mcopy\u001B[0m\u001B[1;33m=\u001B[0m\u001B[0mcopy\u001B[0m\u001B[1;33m,\u001B[0m \u001B[0merrors\u001B[0m\u001B[1;33m=\u001B[0m\u001B[0merrors\u001B[0m\u001B[1;33m,\u001B[0m\u001B[1;33m)\u001B[0m\u001B[1;33m\u001B[0m\u001B[1;33m\u001B[0m\u001B[0m\n\u001B[0m\u001B[0;32m   5549\u001B[0m             \u001B[1;32mreturn\u001B[0m \u001B[0mself\u001B[0m\u001B[1;33m.\u001B[0m\u001B[0m_constructor\u001B[0m\u001B[1;33m(\u001B[0m\u001B[0mnew_data\u001B[0m\u001B[1;33m)\u001B[0m\u001B[1;33m.\u001B[0m\u001B[0m__finalize__\u001B[0m\u001B[1;33m(\u001B[0m\u001B[0mself\u001B[0m\u001B[1;33m,\u001B[0m \u001B[0mmethod\u001B[0m\u001B[1;33m=\u001B[0m\u001B[1;34m\"astype\"\u001B[0m\u001B[1;33m)\u001B[0m\u001B[1;33m\u001B[0m\u001B[1;33m\u001B[0m\u001B[0m\n\u001B[0;32m   5550\u001B[0m \u001B[1;33m\u001B[0m\u001B[0m\n",
      "\u001B[1;32md:\\uc file\\intern ship\\projects\\quarterly_median_rents-analysis-\\venv\\lib\\site-packages\\pandas\\core\\internals\\managers.py\u001B[0m in \u001B[0;36mastype\u001B[1;34m(self, dtype, copy, errors)\u001B[0m\n\u001B[0;32m    602\u001B[0m         \u001B[0mself\u001B[0m\u001B[1;33m,\u001B[0m \u001B[0mdtype\u001B[0m\u001B[1;33m,\u001B[0m \u001B[0mcopy\u001B[0m\u001B[1;33m:\u001B[0m \u001B[0mbool\u001B[0m \u001B[1;33m=\u001B[0m \u001B[1;32mFalse\u001B[0m\u001B[1;33m,\u001B[0m \u001B[0merrors\u001B[0m\u001B[1;33m:\u001B[0m \u001B[0mstr\u001B[0m \u001B[1;33m=\u001B[0m \u001B[1;34m\"raise\"\u001B[0m\u001B[1;33m\u001B[0m\u001B[1;33m\u001B[0m\u001B[0m\n\u001B[0;32m    603\u001B[0m     ) -> \"BlockManager\":\n\u001B[1;32m--> 604\u001B[1;33m         \u001B[1;32mreturn\u001B[0m \u001B[0mself\u001B[0m\u001B[1;33m.\u001B[0m\u001B[0mapply\u001B[0m\u001B[1;33m(\u001B[0m\u001B[1;34m\"astype\"\u001B[0m\u001B[1;33m,\u001B[0m \u001B[0mdtype\u001B[0m\u001B[1;33m=\u001B[0m\u001B[0mdtype\u001B[0m\u001B[1;33m,\u001B[0m \u001B[0mcopy\u001B[0m\u001B[1;33m=\u001B[0m\u001B[0mcopy\u001B[0m\u001B[1;33m,\u001B[0m \u001B[0merrors\u001B[0m\u001B[1;33m=\u001B[0m\u001B[0merrors\u001B[0m\u001B[1;33m)\u001B[0m\u001B[1;33m\u001B[0m\u001B[1;33m\u001B[0m\u001B[0m\n\u001B[0m\u001B[0;32m    605\u001B[0m \u001B[1;33m\u001B[0m\u001B[0m\n\u001B[0;32m    606\u001B[0m     def convert(\n",
      "\u001B[1;32md:\\uc file\\intern ship\\projects\\quarterly_median_rents-analysis-\\venv\\lib\\site-packages\\pandas\\core\\internals\\managers.py\u001B[0m in \u001B[0;36mapply\u001B[1;34m(self, f, align_keys, **kwargs)\u001B[0m\n\u001B[0;32m    407\u001B[0m                 \u001B[0mapplied\u001B[0m \u001B[1;33m=\u001B[0m \u001B[0mb\u001B[0m\u001B[1;33m.\u001B[0m\u001B[0mapply\u001B[0m\u001B[1;33m(\u001B[0m\u001B[0mf\u001B[0m\u001B[1;33m,\u001B[0m \u001B[1;33m**\u001B[0m\u001B[0mkwargs\u001B[0m\u001B[1;33m)\u001B[0m\u001B[1;33m\u001B[0m\u001B[1;33m\u001B[0m\u001B[0m\n\u001B[0;32m    408\u001B[0m             \u001B[1;32melse\u001B[0m\u001B[1;33m:\u001B[0m\u001B[1;33m\u001B[0m\u001B[1;33m\u001B[0m\u001B[0m\n\u001B[1;32m--> 409\u001B[1;33m                 \u001B[0mapplied\u001B[0m \u001B[1;33m=\u001B[0m \u001B[0mgetattr\u001B[0m\u001B[1;33m(\u001B[0m\u001B[0mb\u001B[0m\u001B[1;33m,\u001B[0m \u001B[0mf\u001B[0m\u001B[1;33m)\u001B[0m\u001B[1;33m(\u001B[0m\u001B[1;33m**\u001B[0m\u001B[0mkwargs\u001B[0m\u001B[1;33m)\u001B[0m\u001B[1;33m\u001B[0m\u001B[1;33m\u001B[0m\u001B[0m\n\u001B[0m\u001B[0;32m    410\u001B[0m             \u001B[0mresult_blocks\u001B[0m \u001B[1;33m=\u001B[0m \u001B[0m_extend_blocks\u001B[0m\u001B[1;33m(\u001B[0m\u001B[0mapplied\u001B[0m\u001B[1;33m,\u001B[0m \u001B[0mresult_blocks\u001B[0m\u001B[1;33m)\u001B[0m\u001B[1;33m\u001B[0m\u001B[1;33m\u001B[0m\u001B[0m\n\u001B[0;32m    411\u001B[0m \u001B[1;33m\u001B[0m\u001B[0m\n",
      "\u001B[1;32md:\\uc file\\intern ship\\projects\\quarterly_median_rents-analysis-\\venv\\lib\\site-packages\\pandas\\core\\internals\\blocks.py\u001B[0m in \u001B[0;36mastype\u001B[1;34m(self, dtype, copy, errors)\u001B[0m\n\u001B[0;32m    593\u001B[0m             \u001B[0mvals1d\u001B[0m \u001B[1;33m=\u001B[0m \u001B[0mvalues\u001B[0m\u001B[1;33m.\u001B[0m\u001B[0mravel\u001B[0m\u001B[1;33m(\u001B[0m\u001B[1;33m)\u001B[0m\u001B[1;33m\u001B[0m\u001B[1;33m\u001B[0m\u001B[0m\n\u001B[0;32m    594\u001B[0m             \u001B[1;32mtry\u001B[0m\u001B[1;33m:\u001B[0m\u001B[1;33m\u001B[0m\u001B[1;33m\u001B[0m\u001B[0m\n\u001B[1;32m--> 595\u001B[1;33m                 \u001B[0mvalues\u001B[0m \u001B[1;33m=\u001B[0m \u001B[0mastype_nansafe\u001B[0m\u001B[1;33m(\u001B[0m\u001B[0mvals1d\u001B[0m\u001B[1;33m,\u001B[0m \u001B[0mdtype\u001B[0m\u001B[1;33m,\u001B[0m \u001B[0mcopy\u001B[0m\u001B[1;33m=\u001B[0m\u001B[1;32mTrue\u001B[0m\u001B[1;33m)\u001B[0m\u001B[1;33m\u001B[0m\u001B[1;33m\u001B[0m\u001B[0m\n\u001B[0m\u001B[0;32m    596\u001B[0m             \u001B[1;32mexcept\u001B[0m \u001B[1;33m(\u001B[0m\u001B[0mValueError\u001B[0m\u001B[1;33m,\u001B[0m \u001B[0mTypeError\u001B[0m\u001B[1;33m)\u001B[0m\u001B[1;33m:\u001B[0m\u001B[1;33m\u001B[0m\u001B[1;33m\u001B[0m\u001B[0m\n\u001B[0;32m    597\u001B[0m                 \u001B[1;31m# e.g. astype_nansafe can fail on object-dtype of strings\u001B[0m\u001B[1;33m\u001B[0m\u001B[1;33m\u001B[0m\u001B[1;33m\u001B[0m\u001B[0m\n",
      "\u001B[1;32md:\\uc file\\intern ship\\projects\\quarterly_median_rents-analysis-\\venv\\lib\\site-packages\\pandas\\core\\dtypes\\cast.py\u001B[0m in \u001B[0;36mastype_nansafe\u001B[1;34m(arr, dtype, copy, skipna)\u001B[0m\n\u001B[0;32m    966\u001B[0m \u001B[1;33m\u001B[0m\u001B[0m\n\u001B[0;32m    967\u001B[0m         \u001B[1;32mif\u001B[0m \u001B[1;32mnot\u001B[0m \u001B[0mnp\u001B[0m\u001B[1;33m.\u001B[0m\u001B[0misfinite\u001B[0m\u001B[1;33m(\u001B[0m\u001B[0marr\u001B[0m\u001B[1;33m)\u001B[0m\u001B[1;33m.\u001B[0m\u001B[0mall\u001B[0m\u001B[1;33m(\u001B[0m\u001B[1;33m)\u001B[0m\u001B[1;33m:\u001B[0m\u001B[1;33m\u001B[0m\u001B[1;33m\u001B[0m\u001B[0m\n\u001B[1;32m--> 968\u001B[1;33m             \u001B[1;32mraise\u001B[0m \u001B[0mValueError\u001B[0m\u001B[1;33m(\u001B[0m\u001B[1;34m\"Cannot convert non-finite values (NA or inf) to integer\"\u001B[0m\u001B[1;33m)\u001B[0m\u001B[1;33m\u001B[0m\u001B[1;33m\u001B[0m\u001B[0m\n\u001B[0m\u001B[0;32m    969\u001B[0m \u001B[1;33m\u001B[0m\u001B[0m\n\u001B[0;32m    970\u001B[0m     \u001B[1;32melif\u001B[0m \u001B[0mis_object_dtype\u001B[0m\u001B[1;33m(\u001B[0m\u001B[0marr\u001B[0m\u001B[1;33m)\u001B[0m\u001B[1;33m:\u001B[0m\u001B[1;33m\u001B[0m\u001B[1;33m\u001B[0m\u001B[0m\n",
      "\u001B[1;31mValueError\u001B[0m: Cannot convert non-finite values (NA or inf) to integer"
     ]
    }
   ],
   "source": [
    "y.astype(int)"
   ]
  },
  {
   "cell_type": "code",
   "execution_count": null,
   "metadata": {},
   "outputs": [],
   "source": [
    "df_min_max_scaled = x.copy()\n",
    "  \n",
    "# apply normalization techniques\n",
    "for column in df_min_max_scaled.columns:\n",
    "    df_min_max_scaled[column] = (df_min_max_scaled[column] - df_min_max_scaled[column].min()) / (df_min_max_scaled[column].max() - df_min_max_scaled[column].min())    \n",
    "  \n",
    "# view normalized data\n",
    "print(df_min_max_scaled)"
   ]
  },
  {
   "cell_type": "code",
   "execution_count": null,
   "metadata": {},
   "outputs": [],
   "source": [
    "pbar = ProgressBar()\n",
    "x=df_min_max_scaled.to_numpy()"
   ]
  },
  {
   "cell_type": "code",
   "execution_count": null,
   "metadata": {},
   "outputs": [],
   "source": [
    "x"
   ]
  },
  {
   "cell_type": "code",
   "execution_count": null,
   "metadata": {},
   "outputs": [],
   "source": [
    "DatasetName='Satelite.json'\n",
    "cross=\"Satelite_cross.json\""
   ]
  },
  {
   "cell_type": "markdown",
   "metadata": {},
   "source": [
    "# Grid search cv function"
   ]
  },
  {
   "cell_type": "code",
   "execution_count": null,
   "metadata": {},
   "outputs": [],
   "source": [
    "def gridfun(fName,x,y,estimator,param_grid,DatasetName):\n",
    "    for i in range(1,11):\n",
    "        cross_validation = StratifiedKFold(n_splits=5, shuffle=True, random_state=i)\n",
    "        grid_search = GridSearchCV(estimator=estimator, param_grid=param_grid, cv=cross_validation, scoring=f1,n_jobs=8)\n",
    "        start = time.time()\n",
    "        grid_result = grid_search.fit(x,y)\n",
    "        end = time.time()\n",
    "        knn_time=end-start\n",
    "        random_state=i\n",
    "        Knn_Para=grid_result.best_params_\n",
    "        Knn_f1_score=grid_result.best_score_\n",
    "        \n",
    "        details = {\n",
    "            'Random State':random_state,\n",
    "            'name': fName,\n",
    "            'time': knn_time,\n",
    "            'f1_score':Knn_f1_score,\n",
    "            'Best_Parameter':Knn_Para,\n",
    "            \n",
    "            \n",
    "    \n",
    "        }\n",
    "        with open(DatasetName, 'a') as json_file:\n",
    "            json.dump(details, json_file)\n",
    "            json_file.write('\\n')\n",
    "     \n",
    "        \n",
    "        \n",
    "    "
   ]
  },
  {
   "cell_type": "code",
   "execution_count": null,
   "metadata": {},
   "outputs": [],
   "source": [
    "# increment ,function random state, time, best parameter"
   ]
  },
  {
   "cell_type": "markdown",
   "metadata": {},
   "source": [
    "# k-Nearest Neighbors"
   ]
  },
  {
   "cell_type": "code",
   "execution_count": null,
   "metadata": {},
   "outputs": [],
   "source": [
    "from sklearn.neighbors import KNeighborsClassifier\n",
    "knn=KNeighborsClassifier()\n",
    "f1 = make_scorer(f1_score , average='macro')"
   ]
  },
  {
   "cell_type": "code",
   "execution_count": null,
   "metadata": {},
   "outputs": [],
   "source": [
    "from sklearn.model_selection import cross_val_score\n",
    "start = time.time()\n",
    "cross_val_score_knn=cross_val_score(knn,x,y,cv=5,scoring=f1).mean()\n",
    "end = time.time()\n",
    "knn_time=end-start"
   ]
  },
  {
   "cell_type": "code",
   "execution_count": null,
   "metadata": {},
   "outputs": [],
   "source": [
    "cross_validation = StratifiedKFold(n_splits=5, shuffle=True, random_state=1)\n",
    "model = KNeighborsClassifier()\n",
    "\n",
    "n_neighbors = range(1, 21)\n",
    "weights = ['uniform', 'distance']\n",
    "metric = ['euclidean', 'manhattan', 'minkowski']\n",
    "grid = dict(n_neighbors=n_neighbors,weights=weights,metric=metric)\n",
    "\n",
    "gridfun(\"KNN\",x,y,model,grid,DatasetName)\n",
    "\n"
   ]
  },
  {
   "cell_type": "markdown",
   "metadata": {},
   "source": [
    "# Linear Discriminant Analysis"
   ]
  },
  {
   "cell_type": "code",
   "execution_count": null,
   "metadata": {},
   "outputs": [],
   "source": [
    "from sklearn.discriminant_analysis import LinearDiscriminantAnalysis\n",
    "clf = LinearDiscriminantAnalysis()"
   ]
  },
  {
   "cell_type": "code",
   "execution_count": null,
   "metadata": {},
   "outputs": [],
   "source": [
    "from sklearn.model_selection import cross_val_score\n",
    "start = time.time()\n",
    "cross_val_score_linear=cross_val_score(knn,x,y,cv=5,scoring=f1).mean()\n",
    "end = time.time()\n",
    "Linear_dis_time=end-start"
   ]
  },
  {
   "cell_type": "code",
   "execution_count": null,
   "metadata": {},
   "outputs": [],
   "source": [
    "cross_validation = StratifiedKFold(n_splits=5, shuffle=True, random_state=1)\n",
    "model = LinearDiscriminantAnalysis()\n",
    "\n",
    "solver = ['svd', 'lsqr', 'eigen']\n",
    "grid = dict(solver=solver)\n",
    "\n",
    "gridfun(\"KNN\",x,y,model,grid,DatasetName)"
   ]
  },
  {
   "cell_type": "markdown",
   "metadata": {},
   "source": [
    "# Naive Bayes"
   ]
  },
  {
   "cell_type": "code",
   "execution_count": null,
   "metadata": {},
   "outputs": [],
   "source": [
    "from sklearn.naive_bayes import GaussianNB\n",
    "nb=GaussianNB()\n",
    "f1 = make_scorer(f1_score , average='macro')"
   ]
  },
  {
   "cell_type": "code",
   "execution_count": null,
   "metadata": {},
   "outputs": [],
   "source": [
    "nb.priors"
   ]
  },
  {
   "cell_type": "code",
   "execution_count": null,
   "metadata": {},
   "outputs": [],
   "source": [
    "from sklearn.model_selection import cross_val_score\n",
    "start = time.time()\n",
    "cross_val_score_naive=cross_val_score(nb,x,y,cv=5,scoring=f1).mean()\n",
    "end = time.time()\n",
    "Naive_time=end-start"
   ]
  },
  {
   "cell_type": "code",
   "execution_count": null,
   "metadata": {},
   "outputs": [],
   "source": [
    "cross_validation = StratifiedKFold(n_splits=5, shuffle=True, random_state=1)\n",
    "model = GaussianNB()\n",
    "\n",
    "\n",
    "var_smoothing = [1e-09,2e-09,3e-09,4e-09,5e-09,6e-09,7e-09,8e-09,9e-09,10e-09]\n",
    "\n",
    "grid = dict(var_smoothing=var_smoothing)\n",
    "\n",
    "gridfun(\"Naive\",x,y,model,grid,DatasetName)\n",
    "\n"
   ]
  },
  {
   "cell_type": "markdown",
   "metadata": {},
   "source": [
    "# Support Vector Machine"
   ]
  },
  {
   "cell_type": "code",
   "execution_count": null,
   "metadata": {},
   "outputs": [],
   "source": [
    "from sklearn.svm import SVC\n",
    "svm=SVC()\n",
    "f1 = make_scorer(f1_score , average='macro')"
   ]
  },
  {
   "cell_type": "code",
   "execution_count": null,
   "metadata": {},
   "outputs": [],
   "source": [
    "from sklearn.model_selection import cross_val_score\n",
    "start = time.time()\n",
    "cross_val_score_support=cross_val_score(svm,x,y,cv=5,scoring=f1).mean()\n",
    "end = time.time()\n",
    "Support_time=end-start"
   ]
  },
  {
   "cell_type": "code",
   "execution_count": null,
   "metadata": {},
   "outputs": [],
   "source": [
    "cross_validation = StratifiedKFold(n_splits=5, shuffle=True, random_state=1)\n",
    "model = SVC()\n",
    "\n",
    "c = range(1, 20, 1)\n",
    "kernel = ['poly', 'rbf', 'sigmoid']\n",
    "gamma = ['scale', 'auto']\n",
    "grid = dict(C=c,kernel=kernel,gamma=gamma)\n",
    "\n",
    "gridfun(\"Support\",x,y,model,grid,DatasetName)\n"
   ]
  },
  {
   "cell_type": "markdown",
   "metadata": {},
   "source": [
    "# Logistic regression"
   ]
  },
  {
   "cell_type": "code",
   "execution_count": null,
   "metadata": {},
   "outputs": [],
   "source": [
    "from sklearn.linear_model import LogisticRegression\n",
    "clf = LogisticRegression(random_state=1)\n",
    "f1 = make_scorer(f1_score , average='macro')"
   ]
  },
  {
   "cell_type": "code",
   "execution_count": null,
   "metadata": {},
   "outputs": [],
   "source": [
    "from sklearn.model_selection import cross_val_score\n",
    "start = time.time()\n",
    "cross_val_score_Logistic=cross_val_score(svm,x,y,cv=5,scoring=f1).mean()\n",
    "\n",
    "end = time.time()\n",
    "logistic_time=end-start"
   ]
  },
  {
   "cell_type": "code",
   "execution_count": null,
   "metadata": {},
   "outputs": [],
   "source": [
    "cross_validation = StratifiedKFold(n_splits=5, shuffle=True, random_state=1)\n",
    "model = LogisticRegression()\n",
    "\n",
    "# dual = ['bool','False']\n",
    "penalty = [ 'l2']\n",
    "# class_weight = ['dict', 'balanced']\n",
    "grid = dict(penalty=penalty)\n",
    "\n",
    "gridfun(\"Logistic\",x,y,model,grid,DatasetName)"
   ]
  },
  {
   "cell_type": "markdown",
   "metadata": {},
   "source": [
    "# Random Forest"
   ]
  },
  {
   "cell_type": "code",
   "execution_count": null,
   "metadata": {},
   "outputs": [],
   "source": [
    "from sklearn.ensemble import RandomForestClassifier\n",
    "rf=RandomForestClassifier()\n",
    "f1 = make_scorer(f1_score , average='macro')"
   ]
  },
  {
   "cell_type": "code",
   "execution_count": null,
   "metadata": {},
   "outputs": [],
   "source": [
    "from sklearn.model_selection import cross_val_score\n",
    "start = time.time()\n",
    "cross_val_score_random=cross_val_score(rf,x,y,cv=5,scoring=f1).mean()\n",
    "\n",
    "end = time.time()\n",
    "random_time=end-start"
   ]
  },
  {
   "cell_type": "code",
   "execution_count": null,
   "metadata": {},
   "outputs": [],
   "source": [
    "cross_validation = StratifiedKFold(n_splits=5, shuffle=True, random_state=1)\n",
    "model=RandomForestClassifier()\n",
    "\n",
    "n_estimators = range(1, 20, 1)\n",
    "criterion = ['gini', 'entropy']\n",
    "grid = dict(n_estimators=n_estimators,criterion=criterion)\n",
    "\n",
    "gridfun(\"Random\",x,y,model,grid,DatasetName)\n"
   ]
  },
  {
   "cell_type": "markdown",
   "metadata": {},
   "source": [
    "# Ada boost"
   ]
  },
  {
   "cell_type": "code",
   "execution_count": null,
   "metadata": {},
   "outputs": [],
   "source": [
    "from sklearn.ensemble import AdaBoostClassifier\n",
    "clf = AdaBoostClassifier(n_estimators=100, random_state=0)\n",
    "f1 = make_scorer(f1_score , average='macro')"
   ]
  },
  {
   "cell_type": "code",
   "execution_count": null,
   "metadata": {},
   "outputs": [],
   "source": [
    "from sklearn.model_selection import cross_val_score\n",
    "start = time.time()\n",
    "cross_val_score_Adaboost=cross_val_score(clf,x,y,cv=5,scoring=f1).mean()\n",
    "end = time.time()\n",
    "Adaboost_time=end-start"
   ]
  },
  {
   "cell_type": "code",
   "execution_count": null,
   "metadata": {},
   "outputs": [],
   "source": [
    "cross_validation = StratifiedKFold(n_splits=5, shuffle=True, random_state=1)\n",
    "model = AdaBoostClassifier()\n",
    "\n",
    "n_estimators = range(1, 100, 1)\n",
    "algorithm = ['SAMME', 'SAMME.R']\n",
    "grid = dict(n_estimators=n_estimators,algorithm=algorithm)\n",
    "\n",
    "gridfun(\"Ada boost\",x,y,model,grid,DatasetName)\n"
   ]
  },
  {
   "cell_type": "markdown",
   "metadata": {},
   "source": [
    "# Gradient boost"
   ]
  },
  {
   "cell_type": "code",
   "execution_count": null,
   "metadata": {},
   "outputs": [],
   "source": [
    "from sklearn.ensemble import GradientBoostingClassifier\n",
    "gb_clf = GradientBoostingClassifier(n_estimators=100, learning_rate=0.1, max_depth=2, random_state=0)\n",
    "f1 = make_scorer(f1_score , average='macro')   "
   ]
  },
  {
   "cell_type": "code",
   "execution_count": null,
   "metadata": {},
   "outputs": [],
   "source": [
    "from sklearn.model_selection import cross_val_score\n",
    "start = time.time()\n",
    "cross_val_score_gradient=cross_val_score(clf,x,y,cv=5,scoring=f1).mean()\n",
    "end = time.time()\n",
    "gradient_time=end-start"
   ]
  },
  {
   "cell_type": "code",
   "execution_count": null,
   "metadata": {},
   "outputs": [],
   "source": [
    "cross_validation = StratifiedKFold(n_splits=5, shuffle=True, random_state=1)\n",
    "model=GradientBoostingClassifier()\n",
    "\n",
    "max_depth=range(1, 10, 1)\n",
    "n_estimators=[100]\n",
    "# learning_rate =np.arange(0.05, 0.2, 0.05)\n",
    "learning_rate=[0.01]\n",
    "grid = dict(n_estimators=n_estimators,max_depth=max_depth,learning_rate=learning_rate)\n",
    "\n",
    "gridfun(\"Gradient\",x,y,model,grid,DatasetName)"
   ]
  },
  {
   "cell_type": "markdown",
   "metadata": {},
   "source": [
    "# XGBoost"
   ]
  },
  {
   "cell_type": "code",
   "execution_count": null,
   "metadata": {},
   "outputs": [],
   "source": [
    "import xgboost as xgb\n",
    "gb_clf = xgb.XGBClassifier(eta=0.3,gamma=0,max_depth=6)\n",
    "f1 = make_scorer(f1_score , average='macro')  "
   ]
  },
  {
   "cell_type": "code",
   "execution_count": null,
   "metadata": {},
   "outputs": [],
   "source": [
    "from sklearn.model_selection import cross_val_score\n",
    "start = time.time()\n",
    "cross_val_score_xgboost=cross_val_score(gb_clf,x,y,cv=5,scoring=f1).mean()\n",
    "end = time.time()\n",
    "xgboost_time=end-start"
   ]
  },
  {
   "cell_type": "code",
   "execution_count": null,
   "metadata": {},
   "outputs": [],
   "source": [
    "cross_validation = StratifiedKFold(n_splits=5, shuffle=True, random_state=1)\n",
    "model=xgb.XGBClassifier()\n",
    "\n",
    "gamma=range(1, 10, 1)\n",
    "eta=[0.001,0.01,0.05]\n",
    "grid = dict(eta=eta,gamma=gamma)\n",
    "\n",
    "gridfun(\"XGBoost\",x,y,model,grid,DatasetName)"
   ]
  },
  {
   "cell_type": "markdown",
   "metadata": {
    "pycharm": {
     "is_executing": true
    }
   },
   "source": [
    "# save all croos validations"
   ]
  },
  {
   "cell_type": "code",
   "execution_count": null,
   "metadata": {},
   "outputs": [],
   "source": [
    "details = {\n",
    "    'Knn':cross_val_score_knn ,\n",
    "    'Linear': cross_val_score_linear,\n",
    "    'Naive':cross_val_score_naive,\n",
    "    'support':cross_val_score_support,\n",
    "    'Logistic':cross_val_score_Logistic,\n",
    "    'Random':cross_val_score_random,\n",
    "    'Ada boost':cross_val_score_Adaboost,\n",
    "    'Gradient':cross_val_score_gradient,\n",
    "    'XG Boost':cross_val_score_xgboost,\n",
    "    \n",
    "    \n",
    "}\n",
    "with open(cross, 'a') as json_file:\n",
    "    json.dump(details, json_file)"
   ]
  }
 ],
 "metadata": {
  "kernelspec": {
   "display_name": "Python 3",
   "language": "python",
   "name": "python3"
  },
  "language_info": {
   "codemirror_mode": {
    "name": "ipython",
    "version": 3
   },
   "file_extension": ".py",
   "mimetype": "text/x-python",
   "name": "python",
   "nbconvert_exporter": "python",
   "pygments_lexer": "ipython3",
   "version": "3.6.8"
  }
 },
 "nbformat": 4,
 "nbformat_minor": 1
}