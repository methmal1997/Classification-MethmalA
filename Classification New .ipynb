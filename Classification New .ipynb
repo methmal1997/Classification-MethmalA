{
 "cells": [
  {
   "cell_type": "markdown",
   "metadata": {},
   "source": [
    "# Import libaries"
   ]
  },
  {
   "cell_type": "code",
   "execution_count": 1,
   "metadata": {},
   "outputs": [],
   "source": [
    "import openml\n",
    "from tqdm import tqdm\n",
    "import matplotlib.pyplot as plt\n",
    "import numpy as np\n",
    "import pandas as pd\n",
    "from progressbar import ProgressBar\n",
    "from sklearn.model_selection import GridSearchCV,StratifiedKFold\n",
    "from sklearn.model_selection import cross_val_score\n",
    "from sklearn.metrics import f1_score, make_scorer\n",
    "import time\n",
    "import json"
   ]
  },
  {
   "cell_type": "markdown",
   "metadata": {},
   "source": [
    "# Import all datatsets"
   ]
  },
  {
   "cell_type": "code",
   "execution_count": 2,
   "metadata": {
    "scrolled": true
   },
   "outputs": [
    {
     "data": {
      "text/plain": "    did             name  version uploader  status format  MajorityClassSize  \\\n2     2           anneal        1        1  active   ARFF              684.0   \n3     3         kr-vs-kp        1        1  active   ARFF             1669.0   \n4     4            labor        1        1  active   ARFF               37.0   \n5     5       arrhythmia        1        1  active   ARFF              245.0   \n6     6           letter        1        1  active   ARFF              813.0   \n7     7        audiology        1        1  active   ARFF               57.0   \n8     8  liver-disorders        1        1  active   ARFF                NaN   \n9     9            autos        1        1  active   ARFF               67.0   \n10   10            lymph        1        1  active   ARFF               81.0   \n11   11    balance-scale        1        1  active   ARFF              288.0   \n\n    MaxNominalAttDistinctValues  MinorityClassSize  NumberOfClasses  \\\n2                           7.0                8.0              5.0   \n3                           3.0             1527.0              2.0   \n4                           3.0               20.0              2.0   \n5                          13.0                2.0             13.0   \n6                          26.0              734.0             26.0   \n7                          24.0                1.0             24.0   \n8                           NaN                NaN              0.0   \n9                          22.0                3.0              6.0   \n10                          8.0                2.0              4.0   \n11                          3.0               49.0              3.0   \n\n    NumberOfFeatures  NumberOfInstances  NumberOfInstancesWithMissingValues  \\\n2               39.0              898.0                               898.0   \n3               37.0             3196.0                                 0.0   \n4               17.0               57.0                                56.0   \n5              280.0              452.0                               384.0   \n6               17.0            20000.0                                 0.0   \n7               70.0              226.0                               222.0   \n8                6.0              345.0                                 0.0   \n9               26.0              205.0                                46.0   \n10              19.0              148.0                                 0.0   \n11               5.0              625.0                                 0.0   \n\n    NumberOfMissingValues  NumberOfNumericFeatures  NumberOfSymbolicFeatures  \n2                 22175.0                      6.0                      33.0  \n3                     0.0                      0.0                      37.0  \n4                   326.0                      8.0                       9.0  \n5                   408.0                    206.0                      74.0  \n6                     0.0                     16.0                       1.0  \n7                   317.0                      0.0                      70.0  \n8                     0.0                      6.0                       0.0  \n9                    59.0                     15.0                      11.0  \n10                    0.0                      3.0                      16.0  \n11                    0.0                      4.0                       1.0  ",
      "text/html": "<div>\n<style scoped>\n    .dataframe tbody tr th:only-of-type {\n        vertical-align: middle;\n    }\n\n    .dataframe tbody tr th {\n        vertical-align: top;\n    }\n\n    .dataframe thead th {\n        text-align: right;\n    }\n</style>\n<table border=\"1\" class=\"dataframe\">\n  <thead>\n    <tr style=\"text-align: right;\">\n      <th></th>\n      <th>did</th>\n      <th>name</th>\n      <th>version</th>\n      <th>uploader</th>\n      <th>status</th>\n      <th>format</th>\n      <th>MajorityClassSize</th>\n      <th>MaxNominalAttDistinctValues</th>\n      <th>MinorityClassSize</th>\n      <th>NumberOfClasses</th>\n      <th>NumberOfFeatures</th>\n      <th>NumberOfInstances</th>\n      <th>NumberOfInstancesWithMissingValues</th>\n      <th>NumberOfMissingValues</th>\n      <th>NumberOfNumericFeatures</th>\n      <th>NumberOfSymbolicFeatures</th>\n    </tr>\n  </thead>\n  <tbody>\n    <tr>\n      <th>2</th>\n      <td>2</td>\n      <td>anneal</td>\n      <td>1</td>\n      <td>1</td>\n      <td>active</td>\n      <td>ARFF</td>\n      <td>684.0</td>\n      <td>7.0</td>\n      <td>8.0</td>\n      <td>5.0</td>\n      <td>39.0</td>\n      <td>898.0</td>\n      <td>898.0</td>\n      <td>22175.0</td>\n      <td>6.0</td>\n      <td>33.0</td>\n    </tr>\n    <tr>\n      <th>3</th>\n      <td>3</td>\n      <td>kr-vs-kp</td>\n      <td>1</td>\n      <td>1</td>\n      <td>active</td>\n      <td>ARFF</td>\n      <td>1669.0</td>\n      <td>3.0</td>\n      <td>1527.0</td>\n      <td>2.0</td>\n      <td>37.0</td>\n      <td>3196.0</td>\n      <td>0.0</td>\n      <td>0.0</td>\n      <td>0.0</td>\n      <td>37.0</td>\n    </tr>\n    <tr>\n      <th>4</th>\n      <td>4</td>\n      <td>labor</td>\n      <td>1</td>\n      <td>1</td>\n      <td>active</td>\n      <td>ARFF</td>\n      <td>37.0</td>\n      <td>3.0</td>\n      <td>20.0</td>\n      <td>2.0</td>\n      <td>17.0</td>\n      <td>57.0</td>\n      <td>56.0</td>\n      <td>326.0</td>\n      <td>8.0</td>\n      <td>9.0</td>\n    </tr>\n    <tr>\n      <th>5</th>\n      <td>5</td>\n      <td>arrhythmia</td>\n      <td>1</td>\n      <td>1</td>\n      <td>active</td>\n      <td>ARFF</td>\n      <td>245.0</td>\n      <td>13.0</td>\n      <td>2.0</td>\n      <td>13.0</td>\n      <td>280.0</td>\n      <td>452.0</td>\n      <td>384.0</td>\n      <td>408.0</td>\n      <td>206.0</td>\n      <td>74.0</td>\n    </tr>\n    <tr>\n      <th>6</th>\n      <td>6</td>\n      <td>letter</td>\n      <td>1</td>\n      <td>1</td>\n      <td>active</td>\n      <td>ARFF</td>\n      <td>813.0</td>\n      <td>26.0</td>\n      <td>734.0</td>\n      <td>26.0</td>\n      <td>17.0</td>\n      <td>20000.0</td>\n      <td>0.0</td>\n      <td>0.0</td>\n      <td>16.0</td>\n      <td>1.0</td>\n    </tr>\n    <tr>\n      <th>7</th>\n      <td>7</td>\n      <td>audiology</td>\n      <td>1</td>\n      <td>1</td>\n      <td>active</td>\n      <td>ARFF</td>\n      <td>57.0</td>\n      <td>24.0</td>\n      <td>1.0</td>\n      <td>24.0</td>\n      <td>70.0</td>\n      <td>226.0</td>\n      <td>222.0</td>\n      <td>317.0</td>\n      <td>0.0</td>\n      <td>70.0</td>\n    </tr>\n    <tr>\n      <th>8</th>\n      <td>8</td>\n      <td>liver-disorders</td>\n      <td>1</td>\n      <td>1</td>\n      <td>active</td>\n      <td>ARFF</td>\n      <td>NaN</td>\n      <td>NaN</td>\n      <td>NaN</td>\n      <td>0.0</td>\n      <td>6.0</td>\n      <td>345.0</td>\n      <td>0.0</td>\n      <td>0.0</td>\n      <td>6.0</td>\n      <td>0.0</td>\n    </tr>\n    <tr>\n      <th>9</th>\n      <td>9</td>\n      <td>autos</td>\n      <td>1</td>\n      <td>1</td>\n      <td>active</td>\n      <td>ARFF</td>\n      <td>67.0</td>\n      <td>22.0</td>\n      <td>3.0</td>\n      <td>6.0</td>\n      <td>26.0</td>\n      <td>205.0</td>\n      <td>46.0</td>\n      <td>59.0</td>\n      <td>15.0</td>\n      <td>11.0</td>\n    </tr>\n    <tr>\n      <th>10</th>\n      <td>10</td>\n      <td>lymph</td>\n      <td>1</td>\n      <td>1</td>\n      <td>active</td>\n      <td>ARFF</td>\n      <td>81.0</td>\n      <td>8.0</td>\n      <td>2.0</td>\n      <td>4.0</td>\n      <td>19.0</td>\n      <td>148.0</td>\n      <td>0.0</td>\n      <td>0.0</td>\n      <td>3.0</td>\n      <td>16.0</td>\n    </tr>\n    <tr>\n      <th>11</th>\n      <td>11</td>\n      <td>balance-scale</td>\n      <td>1</td>\n      <td>1</td>\n      <td>active</td>\n      <td>ARFF</td>\n      <td>288.0</td>\n      <td>3.0</td>\n      <td>49.0</td>\n      <td>3.0</td>\n      <td>5.0</td>\n      <td>625.0</td>\n      <td>0.0</td>\n      <td>0.0</td>\n      <td>4.0</td>\n      <td>1.0</td>\n    </tr>\n  </tbody>\n</table>\n</div>"
     },
     "execution_count": 2,
     "metadata": {},
     "output_type": "execute_result"
    }
   ],
   "source": [
    "datasets_df = openml.datasets.list_datasets(output_format=\"dataframe\")\n",
    "datasets_df.head(10)"
   ]
  },
  {
   "cell_type": "markdown",
   "metadata": {},
   "source": [
    "# Extract Dataset"
   ]
  },
  {
   "cell_type": "code",
   "execution_count": 3,
   "metadata": {},
   "outputs": [],
   "source": [
    "dataset = openml.datasets.get_dataset(26)"
   ]
  },
  {
   "cell_type": "markdown",
   "metadata": {},
   "source": [
    "# Print description about dataset"
   ]
  },
  {
   "cell_type": "code",
   "execution_count": 4,
   "metadata": {},
   "outputs": [
    {
     "name": "stdout",
     "output_type": "stream",
     "text": [
      "This is dataset 'nursery', the target feature is 'class'\n",
      "URL: https://www.openml.org/data/v1/download/26/nursery.arff\n",
      "**Author**:   \n",
      "**Source**: Unknown -   \n",
      "**Please cite**:   \n",
      "\n",
      "1. Title: Nursery Database\n",
      " \n",
      " 2. Sources:\n",
      "    (a) Creator: Vladislav Rajkovic et al. (13 experts)\n",
      "    (b) Donors: Marko Bohanec   (marko.bohanec@ijs.si)\n",
      "                Blaz Zupan      (blaz.zupan@ijs.si)\n",
      "    (c) Date: June, 1997\n",
      " \n",
      " 3. Past Usage:\n",
      " \n",
      "    The hierarchical decision model, from which this dataset is\n",
      "    derived, was first presented in \n",
      " \n",
      "    M. Olave, V. Rajkovic, M. Bohanec: An application for admission in\n",
      "    public school systems. In (I. Th. M. Snellen and W. B. H. J. van de\n",
      "    Donk and J.-P. Baquiast, editors) Expert Systems in Public\n",
      "    Administration, pages 145-160. Elsevier Science Publishers (North\n",
      "    Holland)}, 1989.\n",
      " \n",
      "    Within machine-learning, this dataset was used for the evaluation\n",
      "    of HINT (Hierarchy INduction Tool), which was proved to be able to\n",
      "    completely reconstruct the original hierarchical model. This,\n",
      "    together with a comparison with C4.5, is presented in\n",
      " \n",
      "    B. Zupan, M. Bohanec, I. Bratko, J. Demsar: Machine learning by\n",
      "    function decomposition. ICML-97, Nashville, TN. 1997 (to appear)\n",
      " \n",
      " 4. Relevant Information Paragraph:\n",
      " \n",
      "    Nursery Database was derived from a hierarchical decision model\n",
      "    originally developed to rank applications for nursery schools. It\n",
      "    was used during several years in 1980's when there was excessive\n",
      "    enrollment to these schools in Ljubljana, Slovenia, and the\n",
      "    rejected applications frequently needed an objective\n",
      "    explanation. The final decision depended on three subproblems:\n",
      "    occupation of parents and child's nursery, family structure and\n",
      "    financial standing, and social and health picture of the family.\n",
      "    The model was developed within expert system shell for decision\n",
      "    making DEX (M. Bohanec, V. Rajkovic: Expert system for decision\n",
      "    making. Sistemica 1(1), pp. 145-157, 1990.).\n",
      " \n",
      "    The hierarchical model ranks nursery-school applications according\n",
      "    to the following concept structure:\n",
      " \n",
      "    NURSERY            Evaluation of applications for nursery schools\n",
      "    . EMPLOY           Employment of parents and child's nursery\n",
      "    . . parents        Parents' occupation\n",
      "    . . has_nurs       Child's nursery\n",
      "    . STRUCT_FINAN     Family structure and financial standings\n",
      "    . . STRUCTURE      Family structure\n",
      "    . . . form         Form of the family\n",
      "    . . . children     Number of children\n",
      "    . . housing        Housing conditions\n",
      "    . . finance        Financial standing of the family\n",
      "    . SOC_HEALTH       Social and health picture of the family\n",
      "    . . social         Social conditions\n",
      "    . . health         Health conditions\n",
      " \n",
      "    Input attributes are printed in lowercase. Besides the target\n",
      "    concept (NURSERY) the model includes four intermediate concepts:\n",
      "    EMPLOY, STRUCT_FINAN, STRUCTURE, SOC_HEALTH. Every concept is in\n",
      "    the original model related to its lower level descendants by a set\n",
      "    of examples (for these examples sets see \n",
      "    http://www-ai.ijs.si/BlazZupan/nursery.html).\n",
      " \n",
      "    The Nursery Database contains examples with the structural\n",
      "    information removed, i.e., directly relates NURSERY to the eight input\n",
      "    attributes: parents, has_nurs, form, children, housing, finance,\n",
      "    social, health.\n",
      " \n",
      "    Because of known underlying concept structure, this database may be\n",
      "    particularly useful for testing constructive induction and\n",
      "    structure discovery methods.\n",
      " \n",
      " 5. Number of Instances: 12960\n",
      "    (instances completely cover the attribute space)\n",
      " \n",
      " 6. Number of Attributes: 8\n",
      " \n",
      " 7. Attribute Values:\n",
      " \n",
      "    parents        usual, pretentious, great_pret\n",
      "    has_nurs       proper, less_proper, improper, critical, very_crit\n",
      "    form           complete, completed, incomplete, foster\n",
      "    children       1, 2, 3, more\n",
      "    housing        convenient, less_conv, critical\n",
      "    finance        convenient, inconv\n",
      "    social         non-prob, slightly_prob, problematic\n",
      "    health         recommended, priority, not_recom\n",
      " \n",
      " 8. Missing Attribute Values: none\n",
      " \n",
      " 9. Class Distribution (number of instances per class)\n",
      " \n",
      "    class        N         N[%]\n",
      "    ------------------------------\n",
      "    not_recom    4320   (33.333 %)\n",
      "    recommend       2   ( 0.015 %)\n",
      "    very_recom    328   ( 2.531 %)\n",
      "    priority     4266   (32.917 %)\n",
      "    spec_prior   4044   (31.204 %)\n",
      "\n",
      " Information about the dataset\n",
      " CLASSTYPE: nominal\n",
      " CLASSINDEX: last\n"
     ]
    }
   ],
   "source": [
    "# Print a summary\n",
    "print(\n",
    "    f\"This is dataset '{dataset.name}', the target feature is \"\n",
    "    f\"'{dataset.default_target_attribute}'\"\n",
    ")\n",
    "print(f\"URL: {dataset.url}\")\n",
    "print(dataset.description[:])"
   ]
  },
  {
   "cell_type": "markdown",
   "metadata": {},
   "source": [
    "# Get depent and indepent variables"
   ]
  },
  {
   "cell_type": "code",
   "execution_count": 5,
   "metadata": {},
   "outputs": [],
   "source": [
    "x, y, categorical_indicator, attribute_names = dataset.get_data(\n",
    "    dataset_format=\"dataframe\", target=dataset.default_target_attribute\n",
    ")"
   ]
  },
  {
   "cell_type": "markdown",
   "metadata": {},
   "source": [
    "# Data types"
   ]
  },
  {
   "cell_type": "code",
   "execution_count": 6,
   "metadata": {},
   "outputs": [
    {
     "data": {
      "text/plain": "parents     category\nhas_nurs    category\nform        category\nchildren    category\nhousing     category\nfinance     category\nsocial      category\nhealth      category\ndtype: object"
     },
     "execution_count": 6,
     "metadata": {},
     "output_type": "execute_result"
    }
   ],
   "source": [
    "x.dtypes"
   ]
  },
  {
   "cell_type": "code",
   "execution_count": 7,
   "metadata": {},
   "outputs": [],
   "source": [
    "cat_columns = x.select_dtypes(['category']).columns\n",
    "x[cat_columns] = x[cat_columns].apply(lambda x: pd.factorize(x)[0])"
   ]
  },
  {
   "cell_type": "code",
   "execution_count": 8,
   "metadata": {},
   "outputs": [
    {
     "data": {
      "text/plain": "parents     int64\nhas_nurs    int64\nform        int64\nchildren    int64\nhousing     int64\nfinance     int64\nsocial      int64\nhealth      int64\ndtype: object"
     },
     "execution_count": 8,
     "metadata": {},
     "output_type": "execute_result"
    }
   ],
   "source": [
    "x.dtypes"
   ]
  },
  {
   "cell_type": "markdown",
   "metadata": {},
   "source": [
    "# Change response variable to int"
   ]
  },
  {
   "cell_type": "code",
   "execution_count": 9,
   "metadata": {},
   "outputs": [
    {
     "data": {
      "text/plain": "0         recommend\n1          priority\n2         not_recom\n3         recommend\n4          priority\n            ...    \n12955    spec_prior\n12956     not_recom\n12957    spec_prior\n12958    spec_prior\n12959     not_recom\nName: class, Length: 12960, dtype: category\nCategories (5, object): ['not_recom' < 'recommend' < 'very_recom' < 'priority' < 'spec_prior']"
     },
     "execution_count": 9,
     "metadata": {},
     "output_type": "execute_result"
    }
   ],
   "source": [
    "y"
   ]
  },
  {
   "cell_type": "code",
   "execution_count": 10,
   "metadata": {},
   "outputs": [],
   "source": [
    "y=y.map({'not_recom' :0,'recommend':1,'very_recom' :2,'priority':3,'spec_prior':4})"
   ]
  },
  {
   "cell_type": "code",
   "execution_count": 11,
   "metadata": {},
   "outputs": [
    {
     "data": {
      "text/plain": "0        1\n1        3\n2        0\n3        1\n4        3\n        ..\n12955    4\n12956    0\n12957    4\n12958    4\n12959    0\nName: class, Length: 12960, dtype: int32"
     },
     "execution_count": 11,
     "metadata": {},
     "output_type": "execute_result"
    }
   ],
   "source": [
    "y.astype(int)"
   ]
  },
  {
   "cell_type": "code",
   "execution_count": 12,
   "metadata": {},
   "outputs": [
    {
     "name": "stdout",
     "output_type": "stream",
     "text": [
      "       parents  has_nurs  form  children  housing  finance  social  health\n",
      "0          0.0       0.0   0.0       0.0      0.0      0.0     0.0     0.0\n",
      "1          0.0       0.0   0.0       0.0      0.0      0.0     0.0     0.5\n",
      "2          0.0       0.0   0.0       0.0      0.0      0.0     0.0     1.0\n",
      "3          0.0       0.0   0.0       0.0      0.0      0.0     0.5     0.0\n",
      "4          0.0       0.0   0.0       0.0      0.0      0.0     0.5     0.5\n",
      "...        ...       ...   ...       ...      ...      ...     ...     ...\n",
      "12955      1.0       1.0   1.0       1.0      1.0      1.0     0.5     0.5\n",
      "12956      1.0       1.0   1.0       1.0      1.0      1.0     0.5     1.0\n",
      "12957      1.0       1.0   1.0       1.0      1.0      1.0     1.0     0.0\n",
      "12958      1.0       1.0   1.0       1.0      1.0      1.0     1.0     0.5\n",
      "12959      1.0       1.0   1.0       1.0      1.0      1.0     1.0     1.0\n",
      "\n",
      "[12960 rows x 8 columns]\n"
     ]
    }
   ],
   "source": [
    "df_min_max_scaled = x.copy()\n",
    "  \n",
    "# apply normalization techniques\n",
    "for column in df_min_max_scaled.columns:\n",
    "    df_min_max_scaled[column] = (df_min_max_scaled[column] - df_min_max_scaled[column].min()) / (df_min_max_scaled[column].max() - df_min_max_scaled[column].min())    \n",
    "  \n",
    "# view normalized data\n",
    "print(df_min_max_scaled)"
   ]
  },
  {
   "cell_type": "code",
   "execution_count": 13,
   "metadata": {},
   "outputs": [],
   "source": [
    "pbar = ProgressBar()\n",
    "x=df_min_max_scaled.to_numpy()"
   ]
  },
  {
   "cell_type": "code",
   "execution_count": 14,
   "metadata": {},
   "outputs": [
    {
     "data": {
      "text/plain": "array([[0. , 0. , 0. , ..., 0. , 0. , 0. ],\n       [0. , 0. , 0. , ..., 0. , 0. , 0.5],\n       [0. , 0. , 0. , ..., 0. , 0. , 1. ],\n       ...,\n       [1. , 1. , 1. , ..., 1. , 1. , 0. ],\n       [1. , 1. , 1. , ..., 1. , 1. , 0.5],\n       [1. , 1. , 1. , ..., 1. , 1. , 1. ]])"
     },
     "execution_count": 14,
     "metadata": {},
     "output_type": "execute_result"
    }
   ],
   "source": [
    "x"
   ]
  },
  {
   "cell_type": "code",
   "execution_count": 15,
   "metadata": {},
   "outputs": [],
   "source": [
    "k='Nursery.json'"
   ]
  },
  {
   "cell_type": "markdown",
   "metadata": {},
   "source": [
    "# k-Nearest Neighbors"
   ]
  },
  {
   "cell_type": "code",
   "execution_count": 16,
   "metadata": {},
   "outputs": [],
   "source": [
    "from sklearn.neighbors import KNeighborsClassifier\n",
    "knn=KNeighborsClassifier()\n",
    "f1 = make_scorer(f1_score , average='macro')"
   ]
  },
  {
   "cell_type": "code",
   "execution_count": 17,
   "metadata": {},
   "outputs": [
    {
     "name": "stderr",
     "output_type": "stream",
     "text": [
      "d:\\uc file\\intern ship\\projects\\quarterly_median_rents-analysis-\\venv\\lib\\site-packages\\sklearn\\model_selection\\_split.py:668: UserWarning: The least populated class in y has only 2 members, which is less than n_splits=5.\n",
      "  % (min_groups, self.n_splits)), UserWarning)\n"
     ]
    }
   ],
   "source": [
    "from sklearn.model_selection import cross_val_score\n",
    "start = time.time()\n",
    "cross_val_score_knn=cross_val_score(knn,x,y,cv=5,scoring=f1).mean()\n",
    "end = time.time()\n",
    "knn_time=end-start"
   ]
  },
  {
   "cell_type": "code",
   "execution_count": 18,
   "metadata": {},
   "outputs": [
    {
     "name": "stderr",
     "output_type": "stream",
     "text": [
      "d:\\uc file\\intern ship\\projects\\quarterly_median_rents-analysis-\\venv\\lib\\site-packages\\sklearn\\model_selection\\_split.py:668: UserWarning: The least populated class in y has only 2 members, which is less than n_splits=5.\n",
      "  % (min_groups, self.n_splits)), UserWarning)\n"
     ]
    }
   ],
   "source": [
    "cross_validation = StratifiedKFold(n_splits=5, shuffle=True, random_state=1)\n",
    "model = KNeighborsClassifier()\n",
    "\n",
    "n_neighbors = range(1, 21)\n",
    "weights = ['uniform', 'distance']\n",
    "metric = ['euclidean', 'manhattan', 'minkowski']\n",
    "grid = dict(n_neighbors=n_neighbors,weights=weights,metric=metric)\n",
    "\n",
    "grid_search = GridSearchCV(estimator=model, param_grid=grid, cv=cross_validation, scoring=f1,n_jobs=8)\n",
    "grid_result = grid_search.fit(x,y)\n",
    "\n"
   ]
  },
  {
   "cell_type": "markdown",
   "metadata": {},
   "source": [
    "# Best score using KNN parameter"
   ]
  },
  {
   "cell_type": "code",
   "execution_count": 19,
   "metadata": {},
   "outputs": [
    {
     "data": {
      "text/plain": "{'metric': 'manhattan', 'n_neighbors': 6, 'weights': 'distance'}"
     },
     "execution_count": 19,
     "metadata": {},
     "output_type": "execute_result"
    }
   ],
   "source": [
    "Knn_Para=grid_result.best_params_\n",
    "Knn_Para"
   ]
  },
  {
   "cell_type": "markdown",
   "metadata": {},
   "source": [
    "# Best score using KNN score"
   ]
  },
  {
   "cell_type": "code",
   "execution_count": 20,
   "metadata": {},
   "outputs": [
    {
     "data": {
      "text/plain": "0.8903990915239495"
     },
     "execution_count": 20,
     "metadata": {},
     "output_type": "execute_result"
    }
   ],
   "source": [
    "Knn_f1_score=grid_result.best_score_\n",
    "Knn_f1_score"
   ]
  },
  {
   "cell_type": "code",
   "execution_count": 21,
   "metadata": {},
   "outputs": [],
   "source": [
    "details = {\n",
    "    'name': 'KNN',\n",
    "    'time': knn_time,\n",
    "    'f1_score':Knn_f1_score,\n",
    "    'Best_Parameter':Knn_Para,\n",
    "    'Cross validation score':cross_val_score_knn,\n",
    "    \n",
    "}\n",
    "with open(k, 'a') as json_file:\n",
    "    json.dump(details, json_file)"
   ]
  },
  {
   "cell_type": "markdown",
   "metadata": {},
   "source": [
    "# Linear Discriminant Analysis"
   ]
  },
  {
   "cell_type": "code",
   "execution_count": 22,
   "metadata": {},
   "outputs": [],
   "source": [
    "from sklearn.discriminant_analysis import LinearDiscriminantAnalysis\n",
    "clf = LinearDiscriminantAnalysis()"
   ]
  },
  {
   "cell_type": "code",
   "execution_count": 23,
   "metadata": {},
   "outputs": [
    {
     "name": "stderr",
     "output_type": "stream",
     "text": [
      "d:\\uc file\\intern ship\\projects\\quarterly_median_rents-analysis-\\venv\\lib\\site-packages\\sklearn\\model_selection\\_split.py:668: UserWarning: The least populated class in y has only 2 members, which is less than n_splits=5.\n",
      "  % (min_groups, self.n_splits)), UserWarning)\n"
     ]
    }
   ],
   "source": [
    "from sklearn.model_selection import cross_val_score\n",
    "start = time.time()\n",
    "cross_val_score_linear=cross_val_score(knn,x,y,cv=5,scoring=f1).mean()\n",
    "end = time.time()\n",
    "Linear_dis_time=end-start"
   ]
  },
  {
   "cell_type": "code",
   "execution_count": 24,
   "metadata": {},
   "outputs": [
    {
     "name": "stderr",
     "output_type": "stream",
     "text": [
      "d:\\uc file\\intern ship\\projects\\quarterly_median_rents-analysis-\\venv\\lib\\site-packages\\sklearn\\model_selection\\_split.py:668: UserWarning: The least populated class in y has only 2 members, which is less than n_splits=5.\n",
      "  % (min_groups, self.n_splits)), UserWarning)\n"
     ]
    }
   ],
   "source": [
    "cross_validation = StratifiedKFold(n_splits=5, shuffle=True, random_state=1)\n",
    "model = LinearDiscriminantAnalysis()\n",
    "\n",
    "solver = ['svd', 'lsqr', 'eigen']\n",
    "grid = dict(solver=solver)\n",
    "\n",
    "grid_search = GridSearchCV(estimator=model, param_grid=grid, cv=cross_validation, scoring=f1,n_jobs=8)\n",
    "grid_result = grid_search.fit(x,y)"
   ]
  },
  {
   "cell_type": "markdown",
   "metadata": {},
   "source": [
    "# Best score using linear discriminent parameter"
   ]
  },
  {
   "cell_type": "code",
   "execution_count": 25,
   "metadata": {},
   "outputs": [
    {
     "data": {
      "text/plain": "{'solver': 'svd'}"
     },
     "execution_count": 25,
     "metadata": {},
     "output_type": "execute_result"
    }
   ],
   "source": [
    "Linear_Para=grid_result.best_params_\n",
    "Linear_Para"
   ]
  },
  {
   "cell_type": "markdown",
   "metadata": {},
   "source": [
    "# Best score using discriminent score"
   ]
  },
  {
   "cell_type": "code",
   "execution_count": 26,
   "metadata": {},
   "outputs": [
    {
     "data": {
      "text/plain": "0.7032401130376225"
     },
     "execution_count": 26,
     "metadata": {},
     "output_type": "execute_result"
    }
   ],
   "source": [
    "Linear_f1_score=grid_result.best_score_\n",
    "Linear_f1_score"
   ]
  },
  {
   "cell_type": "code",
   "execution_count": 27,
   "metadata": {},
   "outputs": [],
   "source": [
    "details = {\n",
    "    'name': 'Linear_Dis',\n",
    "    'time': Linear_dis_time,\n",
    "    'f1_score':Linear_f1_score,\n",
    "    'Best_Parameter':Linear_Para,\n",
    "    'Cross validation score':cross_val_score_linear,\n",
    "    \n",
    "}\n",
    "with open(k, 'a') as json_file:\n",
    "    json.dump(details, json_file)"
   ]
  },
  {
   "cell_type": "markdown",
   "metadata": {},
   "source": [
    "# Naive Bayes"
   ]
  },
  {
   "cell_type": "code",
   "execution_count": 28,
   "metadata": {},
   "outputs": [],
   "source": [
    "from sklearn.naive_bayes import GaussianNB\n",
    "nb=GaussianNB()\n",
    "f1 = make_scorer(f1_score , average='macro')"
   ]
  },
  {
   "cell_type": "code",
   "execution_count": 29,
   "metadata": {},
   "outputs": [],
   "source": [
    "nb.priors"
   ]
  },
  {
   "cell_type": "code",
   "execution_count": 30,
   "metadata": {},
   "outputs": [
    {
     "name": "stderr",
     "output_type": "stream",
     "text": [
      "d:\\uc file\\intern ship\\projects\\quarterly_median_rents-analysis-\\venv\\lib\\site-packages\\sklearn\\model_selection\\_split.py:668: UserWarning: The least populated class in y has only 2 members, which is less than n_splits=5.\n",
      "  % (min_groups, self.n_splits)), UserWarning)\n"
     ]
    }
   ],
   "source": [
    "from sklearn.model_selection import cross_val_score\n",
    "start = time.time()\n",
    "cross_val_score_naive=cross_val_score(nb,x,y,cv=5,scoring=f1).mean()\n",
    "end = time.time()\n",
    "Naive_time=end-start"
   ]
  },
  {
   "cell_type": "code",
   "execution_count": 31,
   "metadata": {},
   "outputs": [
    {
     "name": "stderr",
     "output_type": "stream",
     "text": [
      "d:\\uc file\\intern ship\\projects\\quarterly_median_rents-analysis-\\venv\\lib\\site-packages\\sklearn\\model_selection\\_split.py:668: UserWarning: The least populated class in y has only 2 members, which is less than n_splits=5.\n",
      "  % (min_groups, self.n_splits)), UserWarning)\n"
     ]
    }
   ],
   "source": [
    "cross_validation = StratifiedKFold(n_splits=5, shuffle=True, random_state=1)\n",
    "model = GaussianNB()\n",
    "\n",
    "\n",
    "var_smoothing = [1e-09,2e-09,3e-09,4e-09,5e-09,6e-09,7e-09,8e-09,9e-09,10e-09]\n",
    "\n",
    "grid = dict(var_smoothing=var_smoothing)\n",
    "\n",
    "grid_search = GridSearchCV(estimator=model, param_grid=grid, cv=cross_validation, scoring=f1,n_jobs=8)\n",
    "grid_result = grid_search.fit(x,y)\n",
    "\n"
   ]
  },
  {
   "cell_type": "markdown",
   "metadata": {},
   "source": [
    "# Best score using Naive parameter"
   ]
  },
  {
   "cell_type": "code",
   "execution_count": 32,
   "metadata": {},
   "outputs": [
    {
     "data": {
      "text/plain": "{'var_smoothing': 1e-08}"
     },
     "execution_count": 32,
     "metadata": {},
     "output_type": "execute_result"
    }
   ],
   "source": [
    "naiv_Para=grid_result.best_params_\n",
    "naiv_Para"
   ]
  },
  {
   "cell_type": "markdown",
   "metadata": {},
   "source": [
    "# Best score using Naive score"
   ]
  },
  {
   "cell_type": "code",
   "execution_count": 33,
   "metadata": {},
   "outputs": [
    {
     "data": {
      "text/plain": "0.5785478207451185"
     },
     "execution_count": 33,
     "metadata": {},
     "output_type": "execute_result"
    }
   ],
   "source": [
    "naive_f1_score=grid_result.best_score_\n",
    "naive_f1_score"
   ]
  },
  {
   "cell_type": "code",
   "execution_count": 34,
   "metadata": {},
   "outputs": [],
   "source": [
    "details = {\n",
    "    'name': 'Naive Bayes',\n",
    "    'time': Naive_time,\n",
    "    'f1_score':naive_f1_score,\n",
    "    'Best_Parameter':naiv_Para,\n",
    "    'Cross validation score':cross_val_score_naive,\n",
    "    \n",
    "}\n",
    "with open(k, 'a') as json_file:\n",
    "    json.dump(details, json_file)"
   ]
  },
  {
   "cell_type": "markdown",
   "metadata": {},
   "source": [
    "# Support Vector Machine"
   ]
  },
  {
   "cell_type": "code",
   "execution_count": 35,
   "metadata": {},
   "outputs": [],
   "source": [
    "from sklearn.svm import SVC\n",
    "svm=SVC()\n",
    "f1 = make_scorer(f1_score , average='macro')"
   ]
  },
  {
   "cell_type": "code",
   "execution_count": 36,
   "metadata": {},
   "outputs": [
    {
     "name": "stderr",
     "output_type": "stream",
     "text": [
      "d:\\uc file\\intern ship\\projects\\quarterly_median_rents-analysis-\\venv\\lib\\site-packages\\sklearn\\model_selection\\_split.py:668: UserWarning: The least populated class in y has only 2 members, which is less than n_splits=5.\n",
      "  % (min_groups, self.n_splits)), UserWarning)\n"
     ]
    }
   ],
   "source": [
    "from sklearn.model_selection import cross_val_score\n",
    "start = time.time()\n",
    "cross_val_score_support=cross_val_score(svm,x,y,cv=5,scoring=f1).mean()\n",
    "end = time.time()\n",
    "Support_time=end-start"
   ]
  },
  {
   "cell_type": "code",
   "execution_count": 37,
   "metadata": {},
   "outputs": [
    {
     "name": "stderr",
     "output_type": "stream",
     "text": [
      "d:\\uc file\\intern ship\\projects\\quarterly_median_rents-analysis-\\venv\\lib\\site-packages\\sklearn\\model_selection\\_split.py:668: UserWarning: The least populated class in y has only 2 members, which is less than n_splits=5.\n",
      "  % (min_groups, self.n_splits)), UserWarning)\n"
     ]
    }
   ],
   "source": [
    "cross_validation = StratifiedKFold(n_splits=5, shuffle=True, random_state=1)\n",
    "model = SVC()\n",
    "\n",
    "c = range(1, 20, 1)\n",
    "kernel = ['poly', 'rbf', 'sigmoid']\n",
    "gamma = ['scale', 'auto']\n",
    "grid = dict(C=c,kernel=kernel,gamma=gamma)\n",
    "\n",
    "grid_search = GridSearchCV(estimator=model, param_grid=grid, cv=cross_validation, scoring=f1,n_jobs=8)\n",
    "grid_result = grid_search.fit(x,y)\n",
    "\n"
   ]
  },
  {
   "cell_type": "markdown",
   "metadata": {},
   "source": [
    "# Best score using support parameter"
   ]
  },
  {
   "cell_type": "code",
   "execution_count": 38,
   "metadata": {},
   "outputs": [
    {
     "data": {
      "text/plain": "{'C': 16, 'gamma': 'scale', 'kernel': 'rbf'}"
     },
     "execution_count": 38,
     "metadata": {},
     "output_type": "execute_result"
    }
   ],
   "source": [
    "support_Para=grid_result.best_params_\n",
    "support_Para"
   ]
  },
  {
   "cell_type": "markdown",
   "metadata": {},
   "source": [
    "# Best score using support score"
   ]
  },
  {
   "cell_type": "code",
   "execution_count": 39,
   "metadata": {},
   "outputs": [
    {
     "data": {
      "text/plain": "0.9139576282873618"
     },
     "execution_count": 39,
     "metadata": {},
     "output_type": "execute_result"
    }
   ],
   "source": [
    "support_f1_score=grid_result.best_score_\n",
    "support_f1_score"
   ]
  },
  {
   "cell_type": "code",
   "execution_count": 40,
   "metadata": {},
   "outputs": [],
   "source": [
    "details = {\n",
    "    'name': 'Support_Vector',\n",
    "    'time': Support_time,\n",
    "    'f1_score':support_f1_score,\n",
    "    'Best_Parameter':support_Para,\n",
    "    'Cross validation score':cross_val_score_support,\n",
    "    \n",
    "}\n",
    "with open(k, 'a') as json_file:\n",
    "    json.dump(details, json_file)"
   ]
  },
  {
   "cell_type": "markdown",
   "metadata": {},
   "source": [
    "# Logistic regression"
   ]
  },
  {
   "cell_type": "code",
   "execution_count": 41,
   "metadata": {},
   "outputs": [],
   "source": [
    "from sklearn.linear_model import LogisticRegression\n",
    "clf = LogisticRegression(random_state=1)\n",
    "f1 = make_scorer(f1_score , average='macro')"
   ]
  },
  {
   "cell_type": "code",
   "execution_count": 42,
   "metadata": {},
   "outputs": [
    {
     "name": "stderr",
     "output_type": "stream",
     "text": [
      "d:\\uc file\\intern ship\\projects\\quarterly_median_rents-analysis-\\venv\\lib\\site-packages\\sklearn\\model_selection\\_split.py:668: UserWarning: The least populated class in y has only 2 members, which is less than n_splits=5.\n",
      "  % (min_groups, self.n_splits)), UserWarning)\n"
     ]
    }
   ],
   "source": [
    "from sklearn.model_selection import cross_val_score\n",
    "start = time.time()\n",
    "cross_val_score_Logistic=cross_val_score(svm,x,y,cv=5,scoring=f1).mean()\n",
    "\n",
    "end = time.time()\n",
    "logistic_time=end-start"
   ]
  },
  {
   "cell_type": "code",
   "execution_count": 43,
   "metadata": {},
   "outputs": [
    {
     "name": "stderr",
     "output_type": "stream",
     "text": [
      "d:\\uc file\\intern ship\\projects\\quarterly_median_rents-analysis-\\venv\\lib\\site-packages\\sklearn\\model_selection\\_split.py:668: UserWarning: The least populated class in y has only 2 members, which is less than n_splits=5.\n",
      "  % (min_groups, self.n_splits)), UserWarning)\n",
      "d:\\uc file\\intern ship\\projects\\quarterly_median_rents-analysis-\\venv\\lib\\site-packages\\sklearn\\linear_model\\_logistic.py:765: ConvergenceWarning: lbfgs failed to converge (status=1):\n",
      "STOP: TOTAL NO. of ITERATIONS REACHED LIMIT.\n",
      "\n",
      "Increase the number of iterations (max_iter) or scale the data as shown in:\n",
      "    https://scikit-learn.org/stable/modules/preprocessing.html\n",
      "Please also refer to the documentation for alternative solver options:\n",
      "    https://scikit-learn.org/stable/modules/linear_model.html#logistic-regression\n",
      "  extra_warning_msg=_LOGISTIC_SOLVER_CONVERGENCE_MSG)\n"
     ]
    }
   ],
   "source": [
    "cross_validation = StratifiedKFold(n_splits=5, shuffle=True, random_state=1)\n",
    "Logistic = LogisticRegression()\n",
    "\n",
    "# dual = ['bool','False']\n",
    "penalty = [ 'l2']\n",
    "# class_weight = ['dict', 'balanced']\n",
    "grid = dict(penalty=penalty)\n",
    "\n",
    "grid_search = GridSearchCV(estimator=Logistic, param_grid=grid, cv=cross_validation, scoring=f1,n_jobs=8)\n",
    "grid_result = grid_search.fit(x,y)\n"
   ]
  },
  {
   "cell_type": "markdown",
   "metadata": {},
   "source": [
    "# Best score using Logistic parameter"
   ]
  },
  {
   "cell_type": "code",
   "execution_count": 44,
   "metadata": {},
   "outputs": [
    {
     "data": {
      "text/plain": "{'penalty': 'l2'}"
     },
     "execution_count": 44,
     "metadata": {},
     "output_type": "execute_result"
    }
   ],
   "source": [
    "logistic_Para=grid_result.best_params_\n",
    "logistic_Para"
   ]
  },
  {
   "cell_type": "markdown",
   "metadata": {},
   "source": [
    "# Best score using Logistic score"
   ]
  },
  {
   "cell_type": "code",
   "execution_count": 45,
   "metadata": {},
   "outputs": [
    {
     "data": {
      "text/plain": "0.7393078940835973"
     },
     "execution_count": 45,
     "metadata": {},
     "output_type": "execute_result"
    }
   ],
   "source": [
    "logistic_f1_score=grid_result.best_score_\n",
    "logistic_f1_score"
   ]
  },
  {
   "cell_type": "code",
   "execution_count": 46,
   "metadata": {},
   "outputs": [],
   "source": [
    "details = {\n",
    "    'name': 'Logistic',\n",
    "    'time': logistic_time,\n",
    "    'f1_score':logistic_f1_score,\n",
    "    'Best_Parameter':logistic_Para,\n",
    "    'Cross validation score':cross_val_score_Logistic,\n",
    "    \n",
    "}\n",
    "with open(k, 'a') as json_file:\n",
    "    json.dump(details, json_file)"
   ]
  },
  {
   "cell_type": "markdown",
   "metadata": {},
   "source": [
    "# Random Forest"
   ]
  },
  {
   "cell_type": "code",
   "execution_count": 47,
   "metadata": {},
   "outputs": [],
   "source": [
    "from sklearn.ensemble import RandomForestClassifier\n",
    "rf=RandomForestClassifier()\n",
    "f1 = make_scorer(f1_score , average='macro')"
   ]
  },
  {
   "cell_type": "code",
   "execution_count": 48,
   "metadata": {},
   "outputs": [
    {
     "name": "stderr",
     "output_type": "stream",
     "text": [
      "d:\\uc file\\intern ship\\projects\\quarterly_median_rents-analysis-\\venv\\lib\\site-packages\\sklearn\\model_selection\\_split.py:668: UserWarning: The least populated class in y has only 2 members, which is less than n_splits=5.\n",
      "  % (min_groups, self.n_splits)), UserWarning)\n"
     ]
    }
   ],
   "source": [
    "from sklearn.model_selection import cross_val_score\n",
    "start = time.time()\n",
    "cross_val_score_random=cross_val_score(rf,x,y,cv=5,scoring=f1).mean()\n",
    "\n",
    "end = time.time()\n",
    "random_time=end-start"
   ]
  },
  {
   "cell_type": "code",
   "execution_count": 49,
   "metadata": {},
   "outputs": [
    {
     "name": "stderr",
     "output_type": "stream",
     "text": [
      "d:\\uc file\\intern ship\\projects\\quarterly_median_rents-analysis-\\venv\\lib\\site-packages\\sklearn\\model_selection\\_split.py:668: UserWarning: The least populated class in y has only 2 members, which is less than n_splits=5.\n",
      "  % (min_groups, self.n_splits)), UserWarning)\n"
     ]
    }
   ],
   "source": [
    "cross_validation = StratifiedKFold(n_splits=5, shuffle=True, random_state=1)\n",
    "rf=RandomForestClassifier()\n",
    "\n",
    "n_estimators = range(1, 20, 1)\n",
    "criterion = ['gini', 'entropy']\n",
    "grid = dict(n_estimators=n_estimators,criterion=criterion)\n",
    "\n",
    "grid_search = GridSearchCV(estimator=rf, param_grid=grid, cv=cross_validation, scoring=f1,n_jobs=8)\n",
    "grid_result = grid_search.fit(x,y)\n"
   ]
  },
  {
   "cell_type": "markdown",
   "metadata": {},
   "source": [
    "# Best score using random parameter"
   ]
  },
  {
   "cell_type": "code",
   "execution_count": 50,
   "metadata": {},
   "outputs": [
    {
     "data": {
      "text/plain": "{'criterion': 'gini', 'n_estimators': 18}"
     },
     "execution_count": 50,
     "metadata": {},
     "output_type": "execute_result"
    }
   ],
   "source": [
    "random_Para=grid_result.best_params_\n",
    "random_Para"
   ]
  },
  {
   "cell_type": "markdown",
   "metadata": {},
   "source": [
    "# Best score using random score"
   ]
  },
  {
   "cell_type": "code",
   "execution_count": 51,
   "metadata": {},
   "outputs": [
    {
     "data": {
      "text/plain": "0.9108349030790832"
     },
     "execution_count": 51,
     "metadata": {},
     "output_type": "execute_result"
    }
   ],
   "source": [
    "random_f1_score=grid_result.best_score_\n",
    "random_f1_score"
   ]
  },
  {
   "cell_type": "code",
   "execution_count": 52,
   "metadata": {},
   "outputs": [],
   "source": [
    "details = {\n",
    "    'name': 'Random',\n",
    "    'time': random_time,\n",
    "    'f1_score':random_f1_score,\n",
    "    'Best_Parameter':random_Para,\n",
    "    'Cross validation score':cross_val_score_random,\n",
    "    \n",
    "}\n",
    "with open(k, 'a') as json_file:\n",
    "    json.dump(details, json_file)"
   ]
  },
  {
   "cell_type": "markdown",
   "metadata": {},
   "source": [
    "# Ada boost"
   ]
  },
  {
   "cell_type": "code",
   "execution_count": 53,
   "metadata": {},
   "outputs": [],
   "source": [
    "from sklearn.ensemble import AdaBoostClassifier\n",
    "clf = AdaBoostClassifier(n_estimators=100, random_state=0)\n",
    "f1 = make_scorer(f1_score , average='macro')"
   ]
  },
  {
   "cell_type": "code",
   "execution_count": 54,
   "metadata": {},
   "outputs": [
    {
     "name": "stderr",
     "output_type": "stream",
     "text": [
      "d:\\uc file\\intern ship\\projects\\quarterly_median_rents-analysis-\\venv\\lib\\site-packages\\sklearn\\model_selection\\_split.py:668: UserWarning: The least populated class in y has only 2 members, which is less than n_splits=5.\n",
      "  % (min_groups, self.n_splits)), UserWarning)\n"
     ]
    }
   ],
   "source": [
    "from sklearn.model_selection import cross_val_score\n",
    "start = time.time()\n",
    "cross_val_score_Adaboost=cross_val_score(clf,x,y,cv=5,scoring=f1).mean()\n",
    "end = time.time()\n",
    "Adaboost_time=end-start"
   ]
  },
  {
   "cell_type": "code",
   "execution_count": 55,
   "metadata": {},
   "outputs": [
    {
     "name": "stderr",
     "output_type": "stream",
     "text": [
      "d:\\uc file\\intern ship\\projects\\quarterly_median_rents-analysis-\\venv\\lib\\site-packages\\sklearn\\model_selection\\_split.py:668: UserWarning: The least populated class in y has only 2 members, which is less than n_splits=5.\n",
      "  % (min_groups, self.n_splits)), UserWarning)\n"
     ]
    }
   ],
   "source": [
    "cross_validation = StratifiedKFold(n_splits=5, shuffle=True, random_state=1)\n",
    "clf = AdaBoostClassifier()\n",
    "\n",
    "n_estimators = range(1, 100, 1)\n",
    "algorithm = ['SAMME', 'SAMME.R']\n",
    "grid = dict(n_estimators=n_estimators,algorithm=algorithm)\n",
    "\n",
    "grid_search = GridSearchCV(estimator=clf, param_grid=grid, cv=cross_validation, scoring=f1,n_jobs=8)\n",
    "grid_result = grid_search.fit(x,y)\n",
    "\n"
   ]
  },
  {
   "cell_type": "markdown",
   "metadata": {},
   "source": [
    "# Best score using Adaboost parameter"
   ]
  },
  {
   "cell_type": "code",
   "execution_count": 56,
   "metadata": {},
   "outputs": [
    {
     "data": {
      "text/plain": "{'algorithm': 'SAMME', 'n_estimators': 23}"
     },
     "execution_count": 56,
     "metadata": {},
     "output_type": "execute_result"
    }
   ],
   "source": [
    "Adaboost_Para=grid_result.best_params_\n",
    "Adaboost_Para"
   ]
  },
  {
   "cell_type": "markdown",
   "metadata": {},
   "source": [
    "# Best score using Adaboost score"
   ]
  },
  {
   "cell_type": "code",
   "execution_count": 57,
   "metadata": {},
   "outputs": [
    {
     "data": {
      "text/plain": "0.6080903624267606"
     },
     "execution_count": 57,
     "metadata": {},
     "output_type": "execute_result"
    }
   ],
   "source": [
    "Adaboost_f1_score=grid_result.best_score_\n",
    "Adaboost_f1_score"
   ]
  },
  {
   "cell_type": "code",
   "execution_count": 58,
   "metadata": {},
   "outputs": [
    {
     "data": {
      "text/plain": "8.573315143585205"
     },
     "execution_count": 58,
     "metadata": {},
     "output_type": "execute_result"
    }
   ],
   "source": [
    "Adaboost_time"
   ]
  },
  {
   "cell_type": "code",
   "execution_count": 59,
   "metadata": {},
   "outputs": [],
   "source": [
    "details = {\n",
    "    'name': 'Adaboost',\n",
    "    'time': Adaboost_time,\n",
    "    'f1_score':Adaboost_f1_score,\n",
    "    'Best_Parameter':Adaboost_Para,\n",
    "    'Cross validation score':cross_val_score_Adaboost\n",
    "    \n",
    "}\n",
    "with open(k, 'a') as json_file:\n",
    "    json.dump(details, json_file)"
   ]
  },
  {
   "cell_type": "markdown",
   "metadata": {},
   "source": [
    "# Gradient boost"
   ]
  },
  {
   "cell_type": "code",
   "execution_count": 60,
   "metadata": {},
   "outputs": [],
   "source": [
    "from sklearn.ensemble import GradientBoostingClassifier\n",
    "gb_clf = GradientBoostingClassifier(n_estimators=100, learning_rate=0.1, max_depth=2, random_state=0)\n",
    "f1 = make_scorer(f1_score , average='macro')   "
   ]
  },
  {
   "cell_type": "code",
   "execution_count": 61,
   "metadata": {},
   "outputs": [
    {
     "name": "stderr",
     "output_type": "stream",
     "text": [
      "d:\\uc file\\intern ship\\projects\\quarterly_median_rents-analysis-\\venv\\lib\\site-packages\\sklearn\\model_selection\\_split.py:668: UserWarning: The least populated class in y has only 2 members, which is less than n_splits=5.\n",
      "  % (min_groups, self.n_splits)), UserWarning)\n"
     ]
    }
   ],
   "source": [
    "from sklearn.model_selection import cross_val_score\n",
    "start = time.time()\n",
    "cross_val_score_gradient=cross_val_score(clf,x,y,cv=5,scoring=f1).mean()\n",
    "end = time.time()\n",
    "gradient_time=end-start"
   ]
  },
  {
   "cell_type": "code",
   "execution_count": 62,
   "metadata": {},
   "outputs": [
    {
     "name": "stderr",
     "output_type": "stream",
     "text": [
      "d:\\uc file\\intern ship\\projects\\quarterly_median_rents-analysis-\\venv\\lib\\site-packages\\sklearn\\model_selection\\_split.py:668: UserWarning: The least populated class in y has only 2 members, which is less than n_splits=5.\n",
      "  % (min_groups, self.n_splits)), UserWarning)\n"
     ]
    }
   ],
   "source": [
    "cross_validation = StratifiedKFold(n_splits=5, shuffle=True, random_state=1)\n",
    "gb_clf=GradientBoostingClassifier()\n",
    "\n",
    "max_depth=range(1, 10, 1)\n",
    "n_estimators=[100]\n",
    "# learning_rate =np.arange(0.05, 0.2, 0.05)\n",
    "learning_rate=[0.01]\n",
    "grid = dict(n_estimators=n_estimators,max_depth=max_depth,learning_rate=learning_rate)\n",
    "\n",
    "grid_search = GridSearchCV(estimator=gb_clf, param_grid=grid, cv=cross_validation, scoring=f1,n_jobs=8)\n",
    "grid_result = grid_search.fit(x,y)\n",
    "\n"
   ]
  },
  {
   "cell_type": "markdown",
   "metadata": {},
   "source": [
    "# Best score using Gradient boost parameter"
   ]
  },
  {
   "cell_type": "code",
   "execution_count": 63,
   "metadata": {},
   "outputs": [
    {
     "data": {
      "text/plain": "{'learning_rate': 0.01, 'max_depth': 9, 'n_estimators': 100}"
     },
     "execution_count": 63,
     "metadata": {},
     "output_type": "execute_result"
    }
   ],
   "source": [
    "Gradient_Para=grid_result.best_params_\n",
    "Gradient_Para"
   ]
  },
  {
   "cell_type": "markdown",
   "metadata": {},
   "source": [
    "# Best score using Gradient boost score"
   ]
  },
  {
   "cell_type": "code",
   "execution_count": 64,
   "metadata": {},
   "outputs": [
    {
     "data": {
      "text/plain": "0.9125029872210744"
     },
     "execution_count": 64,
     "metadata": {},
     "output_type": "execute_result"
    }
   ],
   "source": [
    "Gradient_f1_score=grid_result.best_score_\n",
    "Gradient_f1_score"
   ]
  },
  {
   "cell_type": "code",
   "execution_count": 65,
   "metadata": {},
   "outputs": [
    {
     "data": {
      "text/plain": "4.438530683517456"
     },
     "execution_count": 65,
     "metadata": {},
     "output_type": "execute_result"
    }
   ],
   "source": [
    "gradient_time"
   ]
  },
  {
   "cell_type": "code",
   "execution_count": 66,
   "metadata": {},
   "outputs": [],
   "source": [
    "details = {\n",
    "    'name': 'Gradient',\n",
    "    'time': gradient_time,\n",
    "    'f1_score':Gradient_f1_score,\n",
    "    'Best_Parameter':Gradient_Para,\n",
    "    'Cross validation score':cross_val_score_gradient\n",
    "    \n",
    "}\n",
    "with open(k, 'a') as json_file:\n",
    "    json.dump(details, json_file)"
   ]
  },
  {
   "cell_type": "markdown",
   "metadata": {},
   "source": [
    "# XGBoost"
   ]
  },
  {
   "cell_type": "code",
   "execution_count": 67,
   "metadata": {},
   "outputs": [],
   "source": [
    "import xgboost as xgb\n",
    "gb_clf = xgb.XGBClassifier(eta=0.3,gamma=0,max_depth=6)\n",
    "f1 = make_scorer(f1_score , average='macro')  "
   ]
  },
  {
   "cell_type": "code",
   "execution_count": 68,
   "metadata": {},
   "outputs": [
    {
     "name": "stderr",
     "output_type": "stream",
     "text": [
      "d:\\uc file\\intern ship\\projects\\quarterly_median_rents-analysis-\\venv\\lib\\site-packages\\sklearn\\model_selection\\_split.py:668: UserWarning: The least populated class in y has only 2 members, which is less than n_splits=5.\n",
      "  % (min_groups, self.n_splits)), UserWarning)\n",
      "d:\\uc file\\intern ship\\projects\\quarterly_median_rents-analysis-\\venv\\lib\\site-packages\\xgboost\\sklearn.py:1224: UserWarning: The use of label encoder in XGBClassifier is deprecated and will be removed in a future release. To remove this warning, do the following: 1) Pass option use_label_encoder=False when constructing XGBClassifier object; and 2) Encode your labels (y) as integers starting with 0, i.e. 0, 1, 2, ..., [num_class - 1].\n",
      "  warnings.warn(label_encoder_deprecation_msg, UserWarning)\n"
     ]
    },
    {
     "name": "stdout",
     "output_type": "stream",
     "text": [
      "[10:02:15] WARNING: C:/Users/Administrator/workspace/xgboost-win64_release_1.5.1/src/learner.cc:1115: Starting in XGBoost 1.3.0, the default evaluation metric used with the objective 'multi:softprob' was changed from 'merror' to 'mlogloss'. Explicitly set eval_metric if you'd like to restore the old behavior.\n"
     ]
    },
    {
     "name": "stderr",
     "output_type": "stream",
     "text": [
      "d:\\uc file\\intern ship\\projects\\quarterly_median_rents-analysis-\\venv\\lib\\site-packages\\xgboost\\sklearn.py:1224: UserWarning: The use of label encoder in XGBClassifier is deprecated and will be removed in a future release. To remove this warning, do the following: 1) Pass option use_label_encoder=False when constructing XGBClassifier object; and 2) Encode your labels (y) as integers starting with 0, i.e. 0, 1, 2, ..., [num_class - 1].\n",
      "  warnings.warn(label_encoder_deprecation_msg, UserWarning)\n"
     ]
    },
    {
     "name": "stdout",
     "output_type": "stream",
     "text": [
      "[10:02:18] WARNING: C:/Users/Administrator/workspace/xgboost-win64_release_1.5.1/src/learner.cc:1115: Starting in XGBoost 1.3.0, the default evaluation metric used with the objective 'multi:softprob' was changed from 'merror' to 'mlogloss'. Explicitly set eval_metric if you'd like to restore the old behavior.\n"
     ]
    },
    {
     "name": "stderr",
     "output_type": "stream",
     "text": [
      "d:\\uc file\\intern ship\\projects\\quarterly_median_rents-analysis-\\venv\\lib\\site-packages\\xgboost\\sklearn.py:1224: UserWarning: The use of label encoder in XGBClassifier is deprecated and will be removed in a future release. To remove this warning, do the following: 1) Pass option use_label_encoder=False when constructing XGBClassifier object; and 2) Encode your labels (y) as integers starting with 0, i.e. 0, 1, 2, ..., [num_class - 1].\n",
      "  warnings.warn(label_encoder_deprecation_msg, UserWarning)\n"
     ]
    },
    {
     "name": "stdout",
     "output_type": "stream",
     "text": [
      "[10:02:21] WARNING: C:/Users/Administrator/workspace/xgboost-win64_release_1.5.1/src/learner.cc:1115: Starting in XGBoost 1.3.0, the default evaluation metric used with the objective 'multi:softprob' was changed from 'merror' to 'mlogloss'. Explicitly set eval_metric if you'd like to restore the old behavior.\n"
     ]
    },
    {
     "name": "stderr",
     "output_type": "stream",
     "text": [
      "d:\\uc file\\intern ship\\projects\\quarterly_median_rents-analysis-\\venv\\lib\\site-packages\\xgboost\\sklearn.py:1224: UserWarning: The use of label encoder in XGBClassifier is deprecated and will be removed in a future release. To remove this warning, do the following: 1) Pass option use_label_encoder=False when constructing XGBClassifier object; and 2) Encode your labels (y) as integers starting with 0, i.e. 0, 1, 2, ..., [num_class - 1].\n",
      "  warnings.warn(label_encoder_deprecation_msg, UserWarning)\n"
     ]
    },
    {
     "name": "stdout",
     "output_type": "stream",
     "text": [
      "[10:02:24] WARNING: C:/Users/Administrator/workspace/xgboost-win64_release_1.5.1/src/learner.cc:1115: Starting in XGBoost 1.3.0, the default evaluation metric used with the objective 'multi:softprob' was changed from 'merror' to 'mlogloss'. Explicitly set eval_metric if you'd like to restore the old behavior.\n"
     ]
    },
    {
     "name": "stderr",
     "output_type": "stream",
     "text": [
      "d:\\uc file\\intern ship\\projects\\quarterly_median_rents-analysis-\\venv\\lib\\site-packages\\xgboost\\sklearn.py:1224: UserWarning: The use of label encoder in XGBClassifier is deprecated and will be removed in a future release. To remove this warning, do the following: 1) Pass option use_label_encoder=False when constructing XGBClassifier object; and 2) Encode your labels (y) as integers starting with 0, i.e. 0, 1, 2, ..., [num_class - 1].\n",
      "  warnings.warn(label_encoder_deprecation_msg, UserWarning)\n"
     ]
    },
    {
     "name": "stdout",
     "output_type": "stream",
     "text": [
      "[10:02:27] WARNING: C:/Users/Administrator/workspace/xgboost-win64_release_1.5.1/src/learner.cc:1115: Starting in XGBoost 1.3.0, the default evaluation metric used with the objective 'multi:softprob' was changed from 'merror' to 'mlogloss'. Explicitly set eval_metric if you'd like to restore the old behavior.\n"
     ]
    }
   ],
   "source": [
    "from sklearn.model_selection import cross_val_score\n",
    "start = time.time()\n",
    "cross_val_score_xgboost=cross_val_score(gb_clf,x,y,cv=5,scoring=f1).mean()\n",
    "end = time.time()\n",
    "xgboost_time=end-start"
   ]
  },
  {
   "cell_type": "code",
   "execution_count": 69,
   "metadata": {},
   "outputs": [
    {
     "name": "stderr",
     "output_type": "stream",
     "text": [
      "d:\\uc file\\intern ship\\projects\\quarterly_median_rents-analysis-\\venv\\lib\\site-packages\\sklearn\\model_selection\\_split.py:668: UserWarning: The least populated class in y has only 2 members, which is less than n_splits=5.\n",
      "  % (min_groups, self.n_splits)), UserWarning)\n",
      "d:\\uc file\\intern ship\\projects\\quarterly_median_rents-analysis-\\venv\\lib\\site-packages\\xgboost\\sklearn.py:1224: UserWarning: The use of label encoder in XGBClassifier is deprecated and will be removed in a future release. To remove this warning, do the following: 1) Pass option use_label_encoder=False when constructing XGBClassifier object; and 2) Encode your labels (y) as integers starting with 0, i.e. 0, 1, 2, ..., [num_class - 1].\n",
      "  warnings.warn(label_encoder_deprecation_msg, UserWarning)\n"
     ]
    },
    {
     "name": "stdout",
     "output_type": "stream",
     "text": [
      "[10:06:42] WARNING: C:/Users/Administrator/workspace/xgboost-win64_release_1.5.1/src/learner.cc:1115: Starting in XGBoost 1.3.0, the default evaluation metric used with the objective 'multi:softprob' was changed from 'merror' to 'mlogloss'. Explicitly set eval_metric if you'd like to restore the old behavior.\n"
     ]
    }
   ],
   "source": [
    "cross_validation = StratifiedKFold(n_splits=5, shuffle=True, random_state=1)\n",
    "gb_clf=xgb.XGBClassifier()\n",
    "\n",
    "gamma=range(1, 10, 1)\n",
    "eta=[0.001,0.01,0.05]\n",
    "grid = dict(eta=eta,gamma=gamma)\n",
    "\n",
    "grid_search = GridSearchCV(estimator=gb_clf, param_grid=grid, cv=cross_validation, scoring=f1,n_jobs=8)\n",
    "grid_result = grid_search.fit(x,y)"
   ]
  },
  {
   "cell_type": "markdown",
   "metadata": {},
   "source": [
    "# Best score using XG boost parameter"
   ]
  },
  {
   "cell_type": "code",
   "execution_count": 70,
   "metadata": {},
   "outputs": [
    {
     "data": {
      "text/plain": "{'eta': 0.05, 'gamma': 2}"
     },
     "execution_count": 70,
     "metadata": {},
     "output_type": "execute_result"
    }
   ],
   "source": [
    "XG_Para=grid_result.best_params_\n",
    "XG_Para"
   ]
  },
  {
   "cell_type": "markdown",
   "metadata": {},
   "source": [
    "# Best score using Gradient boost score"
   ]
  },
  {
   "cell_type": "code",
   "execution_count": 71,
   "metadata": {},
   "outputs": [
    {
     "data": {
      "text/plain": "0.9007025701402759"
     },
     "execution_count": 71,
     "metadata": {},
     "output_type": "execute_result"
    }
   ],
   "source": [
    "XG_f1_score=grid_result.best_score_\n",
    "XG_f1_score"
   ]
  },
  {
   "cell_type": "code",
   "execution_count": 72,
   "metadata": {},
   "outputs": [
    {
     "data": {
      "text/plain": "16.46075677871704"
     },
     "execution_count": 72,
     "metadata": {},
     "output_type": "execute_result"
    }
   ],
   "source": [
    "xgboost_time"
   ]
  },
  {
   "cell_type": "code",
   "execution_count": 73,
   "metadata": {},
   "outputs": [],
   "source": [
    "details = {\n",
    "    'name': 'XGboost',\n",
    "    'time': xgboost_time,\n",
    "    'f1_score':XG_f1_score,\n",
    "    'Best_Parameter':XG_Para,\n",
    "    'Cross validation score':cross_val_score_xgboost\n",
    "    \n",
    "}\n",
    "with open(k, 'a') as json_file:\n",
    "    json.dump(details, json_file)"
   ]
  },
  {
   "cell_type": "code",
   "execution_count": 73,
   "metadata": {},
   "outputs": [],
   "source": []
  },
  {
   "cell_type": "code",
   "execution_count": 73,
   "metadata": {},
   "outputs": [],
   "source": []
  }
 ],
 "metadata": {
  "kernelspec": {
   "display_name": "Python 3",
   "language": "python",
   "name": "python3"
  },
  "language_info": {
   "codemirror_mode": {
    "name": "ipython",
    "version": 3
   },
   "file_extension": ".py",
   "mimetype": "text/x-python",
   "name": "python",
   "nbconvert_exporter": "python",
   "pygments_lexer": "ipython3",
   "version": "3.6.8"
  }
 },
 "nbformat": 4,
 "nbformat_minor": 1
}